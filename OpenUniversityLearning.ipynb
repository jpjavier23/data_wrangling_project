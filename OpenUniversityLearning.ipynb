{
 "cells": [
  {
   "cell_type": "markdown",
   "id": "3fcb0eb1",
   "metadata": {},
   "source": [
    "# Data Collection"
   ]
  },
  {
   "cell_type": "markdown",
   "id": "a80b4421",
   "metadata": {},
   "source": [
    "## Import packages"
   ]
  },
  {
   "cell_type": "code",
   "execution_count": 1,
   "id": "22672be1",
   "metadata": {},
   "outputs": [],
   "source": [
    "import pandas as pd\n",
    "import numpy as np"
   ]
  },
  {
   "cell_type": "markdown",
   "id": "80cc00c7",
   "metadata": {},
   "source": [
    "## Import csv files"
   ]
  },
  {
   "cell_type": "markdown",
   "id": "02bed123",
   "metadata": {},
   "source": [
    "A .names file accompanied the csv files which provided descriptions for all attributes of the data including the original dtypes and feature descriptions."
   ]
  },
  {
   "cell_type": "code",
   "execution_count": 2,
   "id": "a6d5c3be",
   "metadata": {},
   "outputs": [],
   "source": [
    "assess = pd.read_csv('assessments.csv', na_values = '?', low_memory = False)\n",
    "courses = pd.read_csv('courses.csv', na_values = '?', low_memory = False)\n",
    "stassess = pd.read_csv('studentAssessment.csv', na_values = '?', low_memory = False)\n",
    "stinfo = pd.read_csv('studentInfo.csv', na_values = '?', low_memory = False)\n",
    "streg = pd.read_csv('studentRegistration.csv', na_values = '?', low_memory = False)\n",
    "stvle = pd.read_csv('studentVle.csv', na_values = '?', low_memory = False)\n",
    "vle = pd.read_csv('vle.csv', na_values = '?', low_memory = False)"
   ]
  },
  {
   "cell_type": "markdown",
   "id": "f80e6b2e",
   "metadata": {},
   "source": [
    "# Preliminary data exploration"
   ]
  },
  {
   "cell_type": "markdown",
   "id": "aa8cb4d8",
   "metadata": {},
   "source": [
    "## Baseline Data Info"
   ]
  },
  {
   "cell_type": "code",
   "execution_count": 3,
   "id": "d0fc8aa2",
   "metadata": {},
   "outputs": [
    {
     "name": "stdout",
     "output_type": "stream",
     "text": [
      "<class 'pandas.core.frame.DataFrame'>\n",
      "RangeIndex: 206 entries, 0 to 205\n",
      "Data columns (total 6 columns):\n",
      " #   Column             Non-Null Count  Dtype  \n",
      "---  ------             --------------  -----  \n",
      " 0   code_module        206 non-null    object \n",
      " 1   code_presentation  206 non-null    object \n",
      " 2   id_assessment      206 non-null    int64  \n",
      " 3   assessment_type    206 non-null    object \n",
      " 4   date               195 non-null    float64\n",
      " 5   weight             206 non-null    float64\n",
      "dtypes: float64(2), int64(1), object(3)\n",
      "memory usage: 9.8+ KB\n"
     ]
    }
   ],
   "source": [
    "assess.info()"
   ]
  },
  {
   "cell_type": "code",
   "execution_count": 4,
   "id": "a321b80a",
   "metadata": {},
   "outputs": [
    {
     "data": {
      "text/plain": [
       "(206, 6)"
      ]
     },
     "execution_count": 4,
     "metadata": {},
     "output_type": "execute_result"
    }
   ],
   "source": [
    "assess.shape"
   ]
  },
  {
   "cell_type": "code",
   "execution_count": 5,
   "id": "28a6fb63",
   "metadata": {},
   "outputs": [
    {
     "data": {
      "text/html": [
       "<div>\n",
       "<style scoped>\n",
       "    .dataframe tbody tr th:only-of-type {\n",
       "        vertical-align: middle;\n",
       "    }\n",
       "\n",
       "    .dataframe tbody tr th {\n",
       "        vertical-align: top;\n",
       "    }\n",
       "\n",
       "    .dataframe thead th {\n",
       "        text-align: right;\n",
       "    }\n",
       "</style>\n",
       "<table border=\"1\" class=\"dataframe\">\n",
       "  <thead>\n",
       "    <tr style=\"text-align: right;\">\n",
       "      <th></th>\n",
       "      <th>code_module</th>\n",
       "      <th>code_presentation</th>\n",
       "      <th>id_assessment</th>\n",
       "      <th>assessment_type</th>\n",
       "      <th>date</th>\n",
       "      <th>weight</th>\n",
       "    </tr>\n",
       "  </thead>\n",
       "  <tbody>\n",
       "    <tr>\n",
       "      <th>0</th>\n",
       "      <td>AAA</td>\n",
       "      <td>2013J</td>\n",
       "      <td>1752</td>\n",
       "      <td>TMA</td>\n",
       "      <td>19.0</td>\n",
       "      <td>10.0</td>\n",
       "    </tr>\n",
       "    <tr>\n",
       "      <th>1</th>\n",
       "      <td>AAA</td>\n",
       "      <td>2013J</td>\n",
       "      <td>1753</td>\n",
       "      <td>TMA</td>\n",
       "      <td>54.0</td>\n",
       "      <td>20.0</td>\n",
       "    </tr>\n",
       "    <tr>\n",
       "      <th>2</th>\n",
       "      <td>AAA</td>\n",
       "      <td>2013J</td>\n",
       "      <td>1754</td>\n",
       "      <td>TMA</td>\n",
       "      <td>117.0</td>\n",
       "      <td>20.0</td>\n",
       "    </tr>\n",
       "    <tr>\n",
       "      <th>3</th>\n",
       "      <td>AAA</td>\n",
       "      <td>2013J</td>\n",
       "      <td>1755</td>\n",
       "      <td>TMA</td>\n",
       "      <td>166.0</td>\n",
       "      <td>20.0</td>\n",
       "    </tr>\n",
       "    <tr>\n",
       "      <th>4</th>\n",
       "      <td>AAA</td>\n",
       "      <td>2013J</td>\n",
       "      <td>1756</td>\n",
       "      <td>TMA</td>\n",
       "      <td>215.0</td>\n",
       "      <td>30.0</td>\n",
       "    </tr>\n",
       "  </tbody>\n",
       "</table>\n",
       "</div>"
      ],
      "text/plain": [
       "  code_module code_presentation  id_assessment assessment_type   date  weight\n",
       "0         AAA             2013J           1752             TMA   19.0    10.0\n",
       "1         AAA             2013J           1753             TMA   54.0    20.0\n",
       "2         AAA             2013J           1754             TMA  117.0    20.0\n",
       "3         AAA             2013J           1755             TMA  166.0    20.0\n",
       "4         AAA             2013J           1756             TMA  215.0    30.0"
      ]
     },
     "execution_count": 5,
     "metadata": {},
     "output_type": "execute_result"
    }
   ],
   "source": [
    "assess.head()"
   ]
  },
  {
   "cell_type": "code",
   "execution_count": 6,
   "id": "51e1aa9c",
   "metadata": {},
   "outputs": [
    {
     "name": "stdout",
     "output_type": "stream",
     "text": [
      "<class 'pandas.core.frame.DataFrame'>\n",
      "RangeIndex: 22 entries, 0 to 21\n",
      "Data columns (total 3 columns):\n",
      " #   Column                      Non-Null Count  Dtype \n",
      "---  ------                      --------------  ----- \n",
      " 0   code_module                 22 non-null     object\n",
      " 1   code_presentation           22 non-null     object\n",
      " 2   module_presentation_length  22 non-null     int64 \n",
      "dtypes: int64(1), object(2)\n",
      "memory usage: 660.0+ bytes\n"
     ]
    }
   ],
   "source": [
    "courses.info()"
   ]
  },
  {
   "cell_type": "code",
   "execution_count": 7,
   "id": "a34748ac",
   "metadata": {},
   "outputs": [
    {
     "data": {
      "text/plain": [
       "(22, 3)"
      ]
     },
     "execution_count": 7,
     "metadata": {},
     "output_type": "execute_result"
    }
   ],
   "source": [
    "courses.shape"
   ]
  },
  {
   "cell_type": "code",
   "execution_count": 8,
   "id": "3801dad7",
   "metadata": {},
   "outputs": [
    {
     "data": {
      "text/html": [
       "<div>\n",
       "<style scoped>\n",
       "    .dataframe tbody tr th:only-of-type {\n",
       "        vertical-align: middle;\n",
       "    }\n",
       "\n",
       "    .dataframe tbody tr th {\n",
       "        vertical-align: top;\n",
       "    }\n",
       "\n",
       "    .dataframe thead th {\n",
       "        text-align: right;\n",
       "    }\n",
       "</style>\n",
       "<table border=\"1\" class=\"dataframe\">\n",
       "  <thead>\n",
       "    <tr style=\"text-align: right;\">\n",
       "      <th></th>\n",
       "      <th>code_module</th>\n",
       "      <th>code_presentation</th>\n",
       "      <th>module_presentation_length</th>\n",
       "    </tr>\n",
       "  </thead>\n",
       "  <tbody>\n",
       "    <tr>\n",
       "      <th>0</th>\n",
       "      <td>AAA</td>\n",
       "      <td>2013J</td>\n",
       "      <td>268</td>\n",
       "    </tr>\n",
       "    <tr>\n",
       "      <th>1</th>\n",
       "      <td>AAA</td>\n",
       "      <td>2014J</td>\n",
       "      <td>269</td>\n",
       "    </tr>\n",
       "    <tr>\n",
       "      <th>2</th>\n",
       "      <td>BBB</td>\n",
       "      <td>2013J</td>\n",
       "      <td>268</td>\n",
       "    </tr>\n",
       "    <tr>\n",
       "      <th>3</th>\n",
       "      <td>BBB</td>\n",
       "      <td>2014J</td>\n",
       "      <td>262</td>\n",
       "    </tr>\n",
       "    <tr>\n",
       "      <th>4</th>\n",
       "      <td>BBB</td>\n",
       "      <td>2013B</td>\n",
       "      <td>240</td>\n",
       "    </tr>\n",
       "  </tbody>\n",
       "</table>\n",
       "</div>"
      ],
      "text/plain": [
       "  code_module code_presentation  module_presentation_length\n",
       "0         AAA             2013J                         268\n",
       "1         AAA             2014J                         269\n",
       "2         BBB             2013J                         268\n",
       "3         BBB             2014J                         262\n",
       "4         BBB             2013B                         240"
      ]
     },
     "execution_count": 8,
     "metadata": {},
     "output_type": "execute_result"
    }
   ],
   "source": [
    "courses.head()"
   ]
  },
  {
   "cell_type": "code",
   "execution_count": 9,
   "id": "f8ba9aab",
   "metadata": {},
   "outputs": [
    {
     "name": "stdout",
     "output_type": "stream",
     "text": [
      "<class 'pandas.core.frame.DataFrame'>\n",
      "RangeIndex: 173912 entries, 0 to 173911\n",
      "Data columns (total 5 columns):\n",
      " #   Column          Non-Null Count   Dtype  \n",
      "---  ------          --------------   -----  \n",
      " 0   id_assessment   173912 non-null  int64  \n",
      " 1   id_student      173912 non-null  int64  \n",
      " 2   date_submitted  173912 non-null  int64  \n",
      " 3   is_banked       173912 non-null  int64  \n",
      " 4   score           173739 non-null  float64\n",
      "dtypes: float64(1), int64(4)\n",
      "memory usage: 6.6 MB\n"
     ]
    }
   ],
   "source": [
    "stassess.info()"
   ]
  },
  {
   "cell_type": "code",
   "execution_count": 10,
   "id": "05e85e76",
   "metadata": {},
   "outputs": [
    {
     "data": {
      "text/plain": [
       "(173912, 5)"
      ]
     },
     "execution_count": 10,
     "metadata": {},
     "output_type": "execute_result"
    }
   ],
   "source": [
    "stassess.shape"
   ]
  },
  {
   "cell_type": "code",
   "execution_count": 11,
   "id": "c4f5cee6",
   "metadata": {},
   "outputs": [
    {
     "data": {
      "text/html": [
       "<div>\n",
       "<style scoped>\n",
       "    .dataframe tbody tr th:only-of-type {\n",
       "        vertical-align: middle;\n",
       "    }\n",
       "\n",
       "    .dataframe tbody tr th {\n",
       "        vertical-align: top;\n",
       "    }\n",
       "\n",
       "    .dataframe thead th {\n",
       "        text-align: right;\n",
       "    }\n",
       "</style>\n",
       "<table border=\"1\" class=\"dataframe\">\n",
       "  <thead>\n",
       "    <tr style=\"text-align: right;\">\n",
       "      <th></th>\n",
       "      <th>id_assessment</th>\n",
       "      <th>id_student</th>\n",
       "      <th>date_submitted</th>\n",
       "      <th>is_banked</th>\n",
       "      <th>score</th>\n",
       "    </tr>\n",
       "  </thead>\n",
       "  <tbody>\n",
       "    <tr>\n",
       "      <th>0</th>\n",
       "      <td>1752</td>\n",
       "      <td>11391</td>\n",
       "      <td>18</td>\n",
       "      <td>0</td>\n",
       "      <td>78.0</td>\n",
       "    </tr>\n",
       "    <tr>\n",
       "      <th>1</th>\n",
       "      <td>1752</td>\n",
       "      <td>28400</td>\n",
       "      <td>22</td>\n",
       "      <td>0</td>\n",
       "      <td>70.0</td>\n",
       "    </tr>\n",
       "    <tr>\n",
       "      <th>2</th>\n",
       "      <td>1752</td>\n",
       "      <td>31604</td>\n",
       "      <td>17</td>\n",
       "      <td>0</td>\n",
       "      <td>72.0</td>\n",
       "    </tr>\n",
       "    <tr>\n",
       "      <th>3</th>\n",
       "      <td>1752</td>\n",
       "      <td>32885</td>\n",
       "      <td>26</td>\n",
       "      <td>0</td>\n",
       "      <td>69.0</td>\n",
       "    </tr>\n",
       "    <tr>\n",
       "      <th>4</th>\n",
       "      <td>1752</td>\n",
       "      <td>38053</td>\n",
       "      <td>19</td>\n",
       "      <td>0</td>\n",
       "      <td>79.0</td>\n",
       "    </tr>\n",
       "  </tbody>\n",
       "</table>\n",
       "</div>"
      ],
      "text/plain": [
       "   id_assessment  id_student  date_submitted  is_banked  score\n",
       "0           1752       11391              18          0   78.0\n",
       "1           1752       28400              22          0   70.0\n",
       "2           1752       31604              17          0   72.0\n",
       "3           1752       32885              26          0   69.0\n",
       "4           1752       38053              19          0   79.0"
      ]
     },
     "execution_count": 11,
     "metadata": {},
     "output_type": "execute_result"
    }
   ],
   "source": [
    "stassess.head()"
   ]
  },
  {
   "cell_type": "code",
   "execution_count": 12,
   "id": "e848d266",
   "metadata": {},
   "outputs": [
    {
     "name": "stdout",
     "output_type": "stream",
     "text": [
      "<class 'pandas.core.frame.DataFrame'>\n",
      "RangeIndex: 32593 entries, 0 to 32592\n",
      "Data columns (total 12 columns):\n",
      " #   Column                Non-Null Count  Dtype \n",
      "---  ------                --------------  ----- \n",
      " 0   code_module           32593 non-null  object\n",
      " 1   code_presentation     32593 non-null  object\n",
      " 2   id_student            32593 non-null  int64 \n",
      " 3   gender                32593 non-null  object\n",
      " 4   region                32593 non-null  object\n",
      " 5   highest_education     32593 non-null  object\n",
      " 6   imd_band              31482 non-null  object\n",
      " 7   age_band              32593 non-null  object\n",
      " 8   num_of_prev_attempts  32593 non-null  int64 \n",
      " 9   studied_credits       32593 non-null  int64 \n",
      " 10  disability            32593 non-null  object\n",
      " 11  final_result          32593 non-null  object\n",
      "dtypes: int64(3), object(9)\n",
      "memory usage: 3.0+ MB\n"
     ]
    }
   ],
   "source": [
    "stinfo.info()"
   ]
  },
  {
   "cell_type": "code",
   "execution_count": 13,
   "id": "10b29d93",
   "metadata": {},
   "outputs": [
    {
     "data": {
      "text/plain": [
       "(32593, 12)"
      ]
     },
     "execution_count": 13,
     "metadata": {},
     "output_type": "execute_result"
    }
   ],
   "source": [
    "stinfo.shape"
   ]
  },
  {
   "cell_type": "code",
   "execution_count": 14,
   "id": "4dd33ddd",
   "metadata": {},
   "outputs": [
    {
     "data": {
      "text/html": [
       "<div>\n",
       "<style scoped>\n",
       "    .dataframe tbody tr th:only-of-type {\n",
       "        vertical-align: middle;\n",
       "    }\n",
       "\n",
       "    .dataframe tbody tr th {\n",
       "        vertical-align: top;\n",
       "    }\n",
       "\n",
       "    .dataframe thead th {\n",
       "        text-align: right;\n",
       "    }\n",
       "</style>\n",
       "<table border=\"1\" class=\"dataframe\">\n",
       "  <thead>\n",
       "    <tr style=\"text-align: right;\">\n",
       "      <th></th>\n",
       "      <th>code_module</th>\n",
       "      <th>code_presentation</th>\n",
       "      <th>id_student</th>\n",
       "      <th>gender</th>\n",
       "      <th>region</th>\n",
       "      <th>highest_education</th>\n",
       "      <th>imd_band</th>\n",
       "      <th>age_band</th>\n",
       "      <th>num_of_prev_attempts</th>\n",
       "      <th>studied_credits</th>\n",
       "      <th>disability</th>\n",
       "      <th>final_result</th>\n",
       "    </tr>\n",
       "  </thead>\n",
       "  <tbody>\n",
       "    <tr>\n",
       "      <th>0</th>\n",
       "      <td>AAA</td>\n",
       "      <td>2013J</td>\n",
       "      <td>11391</td>\n",
       "      <td>M</td>\n",
       "      <td>East Anglian Region</td>\n",
       "      <td>HE Qualification</td>\n",
       "      <td>90-100%</td>\n",
       "      <td>55&lt;=</td>\n",
       "      <td>0</td>\n",
       "      <td>240</td>\n",
       "      <td>N</td>\n",
       "      <td>Pass</td>\n",
       "    </tr>\n",
       "    <tr>\n",
       "      <th>1</th>\n",
       "      <td>AAA</td>\n",
       "      <td>2013J</td>\n",
       "      <td>28400</td>\n",
       "      <td>F</td>\n",
       "      <td>Scotland</td>\n",
       "      <td>HE Qualification</td>\n",
       "      <td>20-30%</td>\n",
       "      <td>35-55</td>\n",
       "      <td>0</td>\n",
       "      <td>60</td>\n",
       "      <td>N</td>\n",
       "      <td>Pass</td>\n",
       "    </tr>\n",
       "    <tr>\n",
       "      <th>2</th>\n",
       "      <td>AAA</td>\n",
       "      <td>2013J</td>\n",
       "      <td>30268</td>\n",
       "      <td>F</td>\n",
       "      <td>North Western Region</td>\n",
       "      <td>A Level or Equivalent</td>\n",
       "      <td>30-40%</td>\n",
       "      <td>35-55</td>\n",
       "      <td>0</td>\n",
       "      <td>60</td>\n",
       "      <td>Y</td>\n",
       "      <td>Withdrawn</td>\n",
       "    </tr>\n",
       "    <tr>\n",
       "      <th>3</th>\n",
       "      <td>AAA</td>\n",
       "      <td>2013J</td>\n",
       "      <td>31604</td>\n",
       "      <td>F</td>\n",
       "      <td>South East Region</td>\n",
       "      <td>A Level or Equivalent</td>\n",
       "      <td>50-60%</td>\n",
       "      <td>35-55</td>\n",
       "      <td>0</td>\n",
       "      <td>60</td>\n",
       "      <td>N</td>\n",
       "      <td>Pass</td>\n",
       "    </tr>\n",
       "    <tr>\n",
       "      <th>4</th>\n",
       "      <td>AAA</td>\n",
       "      <td>2013J</td>\n",
       "      <td>32885</td>\n",
       "      <td>F</td>\n",
       "      <td>West Midlands Region</td>\n",
       "      <td>Lower Than A Level</td>\n",
       "      <td>50-60%</td>\n",
       "      <td>0-35</td>\n",
       "      <td>0</td>\n",
       "      <td>60</td>\n",
       "      <td>N</td>\n",
       "      <td>Pass</td>\n",
       "    </tr>\n",
       "  </tbody>\n",
       "</table>\n",
       "</div>"
      ],
      "text/plain": [
       "  code_module code_presentation  id_student gender                region  \\\n",
       "0         AAA             2013J       11391      M   East Anglian Region   \n",
       "1         AAA             2013J       28400      F              Scotland   \n",
       "2         AAA             2013J       30268      F  North Western Region   \n",
       "3         AAA             2013J       31604      F     South East Region   \n",
       "4         AAA             2013J       32885      F  West Midlands Region   \n",
       "\n",
       "       highest_education imd_band age_band  num_of_prev_attempts  \\\n",
       "0       HE Qualification  90-100%     55<=                     0   \n",
       "1       HE Qualification   20-30%    35-55                     0   \n",
       "2  A Level or Equivalent   30-40%    35-55                     0   \n",
       "3  A Level or Equivalent   50-60%    35-55                     0   \n",
       "4     Lower Than A Level   50-60%     0-35                     0   \n",
       "\n",
       "   studied_credits disability final_result  \n",
       "0              240          N         Pass  \n",
       "1               60          N         Pass  \n",
       "2               60          Y    Withdrawn  \n",
       "3               60          N         Pass  \n",
       "4               60          N         Pass  "
      ]
     },
     "execution_count": 14,
     "metadata": {},
     "output_type": "execute_result"
    }
   ],
   "source": [
    "stinfo.head()"
   ]
  },
  {
   "cell_type": "code",
   "execution_count": 15,
   "id": "52aeb702",
   "metadata": {},
   "outputs": [
    {
     "name": "stdout",
     "output_type": "stream",
     "text": [
      "<class 'pandas.core.frame.DataFrame'>\n",
      "RangeIndex: 32593 entries, 0 to 32592\n",
      "Data columns (total 5 columns):\n",
      " #   Column               Non-Null Count  Dtype  \n",
      "---  ------               --------------  -----  \n",
      " 0   code_module          32593 non-null  object \n",
      " 1   code_presentation    32593 non-null  object \n",
      " 2   id_student           32593 non-null  int64  \n",
      " 3   date_registration    32548 non-null  float64\n",
      " 4   date_unregistration  10072 non-null  float64\n",
      "dtypes: float64(2), int64(1), object(2)\n",
      "memory usage: 1.2+ MB\n"
     ]
    }
   ],
   "source": [
    "streg.info()"
   ]
  },
  {
   "cell_type": "code",
   "execution_count": 16,
   "id": "69ee9258",
   "metadata": {},
   "outputs": [
    {
     "data": {
      "text/plain": [
       "(32593, 5)"
      ]
     },
     "execution_count": 16,
     "metadata": {},
     "output_type": "execute_result"
    }
   ],
   "source": [
    "streg.shape"
   ]
  },
  {
   "cell_type": "code",
   "execution_count": 17,
   "id": "81476d96",
   "metadata": {},
   "outputs": [
    {
     "data": {
      "text/html": [
       "<div>\n",
       "<style scoped>\n",
       "    .dataframe tbody tr th:only-of-type {\n",
       "        vertical-align: middle;\n",
       "    }\n",
       "\n",
       "    .dataframe tbody tr th {\n",
       "        vertical-align: top;\n",
       "    }\n",
       "\n",
       "    .dataframe thead th {\n",
       "        text-align: right;\n",
       "    }\n",
       "</style>\n",
       "<table border=\"1\" class=\"dataframe\">\n",
       "  <thead>\n",
       "    <tr style=\"text-align: right;\">\n",
       "      <th></th>\n",
       "      <th>code_module</th>\n",
       "      <th>code_presentation</th>\n",
       "      <th>id_student</th>\n",
       "      <th>date_registration</th>\n",
       "      <th>date_unregistration</th>\n",
       "    </tr>\n",
       "  </thead>\n",
       "  <tbody>\n",
       "    <tr>\n",
       "      <th>0</th>\n",
       "      <td>AAA</td>\n",
       "      <td>2013J</td>\n",
       "      <td>11391</td>\n",
       "      <td>-159.0</td>\n",
       "      <td>NaN</td>\n",
       "    </tr>\n",
       "    <tr>\n",
       "      <th>1</th>\n",
       "      <td>AAA</td>\n",
       "      <td>2013J</td>\n",
       "      <td>28400</td>\n",
       "      <td>-53.0</td>\n",
       "      <td>NaN</td>\n",
       "    </tr>\n",
       "    <tr>\n",
       "      <th>2</th>\n",
       "      <td>AAA</td>\n",
       "      <td>2013J</td>\n",
       "      <td>30268</td>\n",
       "      <td>-92.0</td>\n",
       "      <td>12.0</td>\n",
       "    </tr>\n",
       "    <tr>\n",
       "      <th>3</th>\n",
       "      <td>AAA</td>\n",
       "      <td>2013J</td>\n",
       "      <td>31604</td>\n",
       "      <td>-52.0</td>\n",
       "      <td>NaN</td>\n",
       "    </tr>\n",
       "    <tr>\n",
       "      <th>4</th>\n",
       "      <td>AAA</td>\n",
       "      <td>2013J</td>\n",
       "      <td>32885</td>\n",
       "      <td>-176.0</td>\n",
       "      <td>NaN</td>\n",
       "    </tr>\n",
       "  </tbody>\n",
       "</table>\n",
       "</div>"
      ],
      "text/plain": [
       "  code_module code_presentation  id_student  date_registration  \\\n",
       "0         AAA             2013J       11391             -159.0   \n",
       "1         AAA             2013J       28400              -53.0   \n",
       "2         AAA             2013J       30268              -92.0   \n",
       "3         AAA             2013J       31604              -52.0   \n",
       "4         AAA             2013J       32885             -176.0   \n",
       "\n",
       "   date_unregistration  \n",
       "0                  NaN  \n",
       "1                  NaN  \n",
       "2                 12.0  \n",
       "3                  NaN  \n",
       "4                  NaN  "
      ]
     },
     "execution_count": 17,
     "metadata": {},
     "output_type": "execute_result"
    }
   ],
   "source": [
    "streg.head()"
   ]
  },
  {
   "cell_type": "code",
   "execution_count": 18,
   "id": "be2644e2",
   "metadata": {},
   "outputs": [
    {
     "name": "stdout",
     "output_type": "stream",
     "text": [
      "<class 'pandas.core.frame.DataFrame'>\n",
      "RangeIndex: 10655280 entries, 0 to 10655279\n",
      "Data columns (total 6 columns):\n",
      " #   Column             Dtype \n",
      "---  ------             ----- \n",
      " 0   code_module        object\n",
      " 1   code_presentation  object\n",
      " 2   id_student         int64 \n",
      " 3   id_site            int64 \n",
      " 4   date               int64 \n",
      " 5   sum_click          int64 \n",
      "dtypes: int64(4), object(2)\n",
      "memory usage: 487.8+ MB\n"
     ]
    }
   ],
   "source": [
    "stvle.info()"
   ]
  },
  {
   "cell_type": "code",
   "execution_count": 19,
   "id": "3e40ebaf",
   "metadata": {},
   "outputs": [
    {
     "data": {
      "text/plain": [
       "(10655280, 6)"
      ]
     },
     "execution_count": 19,
     "metadata": {},
     "output_type": "execute_result"
    }
   ],
   "source": [
    "stvle.shape"
   ]
  },
  {
   "cell_type": "code",
   "execution_count": 20,
   "id": "2506eac3",
   "metadata": {},
   "outputs": [
    {
     "data": {
      "text/html": [
       "<div>\n",
       "<style scoped>\n",
       "    .dataframe tbody tr th:only-of-type {\n",
       "        vertical-align: middle;\n",
       "    }\n",
       "\n",
       "    .dataframe tbody tr th {\n",
       "        vertical-align: top;\n",
       "    }\n",
       "\n",
       "    .dataframe thead th {\n",
       "        text-align: right;\n",
       "    }\n",
       "</style>\n",
       "<table border=\"1\" class=\"dataframe\">\n",
       "  <thead>\n",
       "    <tr style=\"text-align: right;\">\n",
       "      <th></th>\n",
       "      <th>code_module</th>\n",
       "      <th>code_presentation</th>\n",
       "      <th>id_student</th>\n",
       "      <th>id_site</th>\n",
       "      <th>date</th>\n",
       "      <th>sum_click</th>\n",
       "    </tr>\n",
       "  </thead>\n",
       "  <tbody>\n",
       "    <tr>\n",
       "      <th>0</th>\n",
       "      <td>AAA</td>\n",
       "      <td>2013J</td>\n",
       "      <td>28400</td>\n",
       "      <td>546652</td>\n",
       "      <td>-10</td>\n",
       "      <td>4</td>\n",
       "    </tr>\n",
       "    <tr>\n",
       "      <th>1</th>\n",
       "      <td>AAA</td>\n",
       "      <td>2013J</td>\n",
       "      <td>28400</td>\n",
       "      <td>546652</td>\n",
       "      <td>-10</td>\n",
       "      <td>1</td>\n",
       "    </tr>\n",
       "    <tr>\n",
       "      <th>2</th>\n",
       "      <td>AAA</td>\n",
       "      <td>2013J</td>\n",
       "      <td>28400</td>\n",
       "      <td>546652</td>\n",
       "      <td>-10</td>\n",
       "      <td>1</td>\n",
       "    </tr>\n",
       "    <tr>\n",
       "      <th>3</th>\n",
       "      <td>AAA</td>\n",
       "      <td>2013J</td>\n",
       "      <td>28400</td>\n",
       "      <td>546614</td>\n",
       "      <td>-10</td>\n",
       "      <td>11</td>\n",
       "    </tr>\n",
       "    <tr>\n",
       "      <th>4</th>\n",
       "      <td>AAA</td>\n",
       "      <td>2013J</td>\n",
       "      <td>28400</td>\n",
       "      <td>546714</td>\n",
       "      <td>-10</td>\n",
       "      <td>1</td>\n",
       "    </tr>\n",
       "  </tbody>\n",
       "</table>\n",
       "</div>"
      ],
      "text/plain": [
       "  code_module code_presentation  id_student  id_site  date  sum_click\n",
       "0         AAA             2013J       28400   546652   -10          4\n",
       "1         AAA             2013J       28400   546652   -10          1\n",
       "2         AAA             2013J       28400   546652   -10          1\n",
       "3         AAA             2013J       28400   546614   -10         11\n",
       "4         AAA             2013J       28400   546714   -10          1"
      ]
     },
     "execution_count": 20,
     "metadata": {},
     "output_type": "execute_result"
    }
   ],
   "source": [
    "stvle.head()"
   ]
  },
  {
   "cell_type": "code",
   "execution_count": 21,
   "id": "4078e407",
   "metadata": {},
   "outputs": [
    {
     "name": "stdout",
     "output_type": "stream",
     "text": [
      "<class 'pandas.core.frame.DataFrame'>\n",
      "RangeIndex: 6364 entries, 0 to 6363\n",
      "Data columns (total 6 columns):\n",
      " #   Column             Non-Null Count  Dtype  \n",
      "---  ------             --------------  -----  \n",
      " 0   id_site            6364 non-null   int64  \n",
      " 1   code_module        6364 non-null   object \n",
      " 2   code_presentation  6364 non-null   object \n",
      " 3   activity_type      6364 non-null   object \n",
      " 4   week_from          1121 non-null   float64\n",
      " 5   week_to            1121 non-null   float64\n",
      "dtypes: float64(2), int64(1), object(3)\n",
      "memory usage: 298.4+ KB\n"
     ]
    }
   ],
   "source": [
    "vle.info()"
   ]
  },
  {
   "cell_type": "code",
   "execution_count": 22,
   "id": "5531ca9d",
   "metadata": {},
   "outputs": [
    {
     "data": {
      "text/plain": [
       "(6364, 6)"
      ]
     },
     "execution_count": 22,
     "metadata": {},
     "output_type": "execute_result"
    }
   ],
   "source": [
    "vle.shape"
   ]
  },
  {
   "cell_type": "code",
   "execution_count": 23,
   "id": "f3edd98d",
   "metadata": {},
   "outputs": [
    {
     "data": {
      "text/html": [
       "<div>\n",
       "<style scoped>\n",
       "    .dataframe tbody tr th:only-of-type {\n",
       "        vertical-align: middle;\n",
       "    }\n",
       "\n",
       "    .dataframe tbody tr th {\n",
       "        vertical-align: top;\n",
       "    }\n",
       "\n",
       "    .dataframe thead th {\n",
       "        text-align: right;\n",
       "    }\n",
       "</style>\n",
       "<table border=\"1\" class=\"dataframe\">\n",
       "  <thead>\n",
       "    <tr style=\"text-align: right;\">\n",
       "      <th></th>\n",
       "      <th>id_site</th>\n",
       "      <th>code_module</th>\n",
       "      <th>code_presentation</th>\n",
       "      <th>activity_type</th>\n",
       "      <th>week_from</th>\n",
       "      <th>week_to</th>\n",
       "    </tr>\n",
       "  </thead>\n",
       "  <tbody>\n",
       "    <tr>\n",
       "      <th>0</th>\n",
       "      <td>546943</td>\n",
       "      <td>AAA</td>\n",
       "      <td>2013J</td>\n",
       "      <td>resource</td>\n",
       "      <td>NaN</td>\n",
       "      <td>NaN</td>\n",
       "    </tr>\n",
       "    <tr>\n",
       "      <th>1</th>\n",
       "      <td>546712</td>\n",
       "      <td>AAA</td>\n",
       "      <td>2013J</td>\n",
       "      <td>oucontent</td>\n",
       "      <td>NaN</td>\n",
       "      <td>NaN</td>\n",
       "    </tr>\n",
       "    <tr>\n",
       "      <th>2</th>\n",
       "      <td>546998</td>\n",
       "      <td>AAA</td>\n",
       "      <td>2013J</td>\n",
       "      <td>resource</td>\n",
       "      <td>NaN</td>\n",
       "      <td>NaN</td>\n",
       "    </tr>\n",
       "    <tr>\n",
       "      <th>3</th>\n",
       "      <td>546888</td>\n",
       "      <td>AAA</td>\n",
       "      <td>2013J</td>\n",
       "      <td>url</td>\n",
       "      <td>NaN</td>\n",
       "      <td>NaN</td>\n",
       "    </tr>\n",
       "    <tr>\n",
       "      <th>4</th>\n",
       "      <td>547035</td>\n",
       "      <td>AAA</td>\n",
       "      <td>2013J</td>\n",
       "      <td>resource</td>\n",
       "      <td>NaN</td>\n",
       "      <td>NaN</td>\n",
       "    </tr>\n",
       "  </tbody>\n",
       "</table>\n",
       "</div>"
      ],
      "text/plain": [
       "   id_site code_module code_presentation activity_type  week_from  week_to\n",
       "0   546943         AAA             2013J      resource        NaN      NaN\n",
       "1   546712         AAA             2013J     oucontent        NaN      NaN\n",
       "2   546998         AAA             2013J      resource        NaN      NaN\n",
       "3   546888         AAA             2013J           url        NaN      NaN\n",
       "4   547035         AAA             2013J      resource        NaN      NaN"
      ]
     },
     "execution_count": 23,
     "metadata": {},
     "output_type": "execute_result"
    }
   ],
   "source": [
    "vle.head()"
   ]
  },
  {
   "cell_type": "markdown",
   "id": "a75a74bf",
   "metadata": {},
   "source": [
    "## Helper elements"
   ]
  },
  {
   "cell_type": "markdown",
   "id": "bb3a6bb8",
   "metadata": {},
   "source": [
    "I created helper elements that would be beneficial for some later looping code including a list of all the dataframes and assigning each df with a name"
   ]
  },
  {
   "cell_type": "code",
   "execution_count": 24,
   "id": "4f1dfafa",
   "metadata": {},
   "outputs": [],
   "source": [
    "ls_all_docs = [assess, courses, stassess, stinfo, streg, stvle, vle]\n",
    "assess.name = 'assess'\n",
    "courses.name = 'courses'\n",
    "stassess.name = 'stassess'\n",
    "stinfo.name = 'stinfo'\n",
    "streg.name = 'streg'\n",
    "stvle.name = 'stvle'\n",
    "vle.name = 'vle'"
   ]
  },
  {
   "cell_type": "markdown",
   "id": "072ed589",
   "metadata": {},
   "source": [
    "## Checking for Duplicates"
   ]
  },
  {
   "cell_type": "code",
   "execution_count": 25,
   "id": "7ddf1573",
   "metadata": {},
   "outputs": [
    {
     "name": "stdout",
     "output_type": "stream",
     "text": [
      "assess has no duplicates\n",
      "courses has no duplicates\n",
      "stassess has no duplicates\n",
      "stinfo has no duplicates\n",
      "streg has no duplicates\n",
      "stvle has no duplicates\n",
      "vle has no duplicates\n"
     ]
    }
   ],
   "source": [
    "for i in ls_all_docs:\n",
    "    colu = [i.columns]\n",
    "    for c in colu:\n",
    "        if i[c].duplicated().any() is True:\n",
    "            print(f'{i.name}[{c}] has duplicates')\n",
    "        else:\n",
    "            print(f'{i.name} has no duplicates')"
   ]
  },
  {
   "cell_type": "markdown",
   "id": "44e347a3",
   "metadata": {},
   "source": [
    "# Joining Data"
   ]
  },
  {
   "cell_type": "markdown",
   "id": "ce30b178",
   "metadata": {},
   "source": [
    "## Finding merge features"
   ]
  },
  {
   "cell_type": "markdown",
   "id": "82b413fc",
   "metadata": {},
   "source": [
    "I needed to identify the specific data features that were in common for each df. The first for loop required cross referencing multiple posts and sources (including my notes) to figure out the specific syntax."
   ]
  },
  {
   "cell_type": "code",
   "execution_count": 26,
   "id": "8e96574c",
   "metadata": {},
   "outputs": [],
   "source": [
    "similar_headers = []\n",
    "\n",
    "for i, df_outer in enumerate(ls_all_docs):\n",
    "    for j, df_inner in enumerate(ls_all_docs):\n",
    "        if i == j:\n",
    "            continue\n",
    "        for c in df_outer.columns:\n",
    "            if c in df_inner.columns and c not in similar_headers:\n",
    "                similar_headers.append(c)"
   ]
  },
  {
   "cell_type": "code",
   "execution_count": 27,
   "id": "ba963d7a",
   "metadata": {},
   "outputs": [
    {
     "data": {
      "text/plain": [
       "['code_module',\n",
       " 'code_presentation',\n",
       " 'id_assessment',\n",
       " 'date',\n",
       " 'id_student',\n",
       " 'id_site']"
      ]
     },
     "execution_count": 27,
     "metadata": {},
     "output_type": "execute_result"
    }
   ],
   "source": [
    "similar_headers"
   ]
  },
  {
   "cell_type": "code",
   "execution_count": 28,
   "id": "179dfba8",
   "metadata": {},
   "outputs": [
    {
     "name": "stdout",
     "output_type": "stream",
     "text": [
      "assess has code_module\n",
      "courses has code_module\n",
      "stinfo has code_module\n",
      "streg has code_module\n",
      "stvle has code_module\n",
      "vle has code_module\n",
      "assess has code_presentation\n",
      "courses has code_presentation\n",
      "stinfo has code_presentation\n",
      "streg has code_presentation\n",
      "stvle has code_presentation\n",
      "vle has code_presentation\n",
      "assess has id_assessment\n",
      "stassess has id_assessment\n",
      "assess has date\n",
      "stvle has date\n",
      "stassess has id_student\n",
      "stinfo has id_student\n",
      "streg has id_student\n",
      "stvle has id_student\n",
      "stvle has id_site\n",
      "vle has id_site\n"
     ]
    }
   ],
   "source": [
    "for h in similar_headers:\n",
    "    for d in ls_all_docs:\n",
    "        ls = list(d.columns)\n",
    "        if h in ls:\n",
    "            print(f\"{d.name} has {h}\")"
   ]
  },
  {
   "cell_type": "markdown",
   "id": "b5b1f3e6",
   "metadata": {},
   "source": [
    "With my common features identified, I then physically constructed a table to visualize which features overlap. To condense the number of repeat columns between merges, I chose to list all common features between data frames that were possible at a time."
   ]
  },
  {
   "cell_type": "markdown",
   "id": "ab861c04",
   "metadata": {},
   "source": [
    "## Joining attempt 1"
   ]
  },
  {
   "cell_type": "markdown",
   "id": "b90027d0",
   "metadata": {},
   "source": [
    "All merges follow a similar pattern where all common features were used to merge onto. Additionally, df that were assumed to inform another df were merged first. The head method was added later to highlight something that I was not able to catch prior to merging.\n",
    "\n",
    "Each merge was also checked to ensure there were no missing values. This will actually be identified as incorrect exemplified with 'sacri'."
   ]
  },
  {
   "cell_type": "markdown",
   "id": "1d6d3901",
   "metadata": {},
   "source": [
    "as_co = assess.merge(courses, on = ['code_module', 'code_presentation'])\n",
    "as_co.isna().sum()"
   ]
  },
  {
   "cell_type": "markdown",
   "id": "ad5b3b5d",
   "metadata": {},
   "source": [
    "as_co.info()"
   ]
  },
  {
   "cell_type": "markdown",
   "id": "a6807122",
   "metadata": {},
   "source": [
    "as_co.head()"
   ]
  },
  {
   "cell_type": "markdown",
   "id": "e7dc3d7f",
   "metadata": {},
   "source": [
    "as_co.shape"
   ]
  },
  {
   "cell_type": "markdown",
   "id": "1eb590c7",
   "metadata": {},
   "source": [
    "sta_ac = stassess.merge(as_co, on = 'id_assessment')\n",
    "sta_ac.isna().sum()"
   ]
  },
  {
   "cell_type": "markdown",
   "id": "78d52bb8",
   "metadata": {},
   "source": [
    "sta_ac.info()"
   ]
  },
  {
   "cell_type": "markdown",
   "id": "bfcca439",
   "metadata": {},
   "source": [
    "sta_ac.head()"
   ]
  },
  {
   "cell_type": "markdown",
   "id": "6f389284",
   "metadata": {},
   "source": [
    "sta_ac.shape"
   ]
  },
  {
   "cell_type": "markdown",
   "id": "30b603c0",
   "metadata": {},
   "source": [
    "in_re = stinfo.merge(streg, on = ['code_module', 'code_presentation', 'id_student'])\n",
    "in_re.isna().sum()"
   ]
  },
  {
   "cell_type": "markdown",
   "id": "2a2b8fb2",
   "metadata": {},
   "source": [
    "in_re.info()"
   ]
  },
  {
   "cell_type": "markdown",
   "id": "667c141c",
   "metadata": {},
   "source": [
    "in_re.head()"
   ]
  },
  {
   "cell_type": "markdown",
   "id": "f6c8abf8",
   "metadata": {},
   "source": [
    "in_re.shape"
   ]
  },
  {
   "cell_type": "markdown",
   "id": "ed5633ca",
   "metadata": {},
   "source": [
    "sv_vl = stvle.merge(vle, on = ['id_site', 'code_module', 'code_presentation'])\n",
    "sv_vl.isna().sum()"
   ]
  },
  {
   "cell_type": "markdown",
   "id": "60643d7b",
   "metadata": {},
   "source": [
    "sv_vl.info()"
   ]
  },
  {
   "cell_type": "markdown",
   "id": "14d1a69c",
   "metadata": {},
   "source": [
    "sv_vl.head()"
   ]
  },
  {
   "cell_type": "markdown",
   "id": "da02b868",
   "metadata": {},
   "source": [
    "sv_vl.shape"
   ]
  },
  {
   "cell_type": "markdown",
   "id": "ab418f05",
   "metadata": {},
   "source": [
    "sacri = sta_ac.merge(in_re, on = ['code_module', 'code_presentation', 'id_student'])\n",
    "sacri.isna().sum()"
   ]
  },
  {
   "cell_type": "markdown",
   "id": "631e6e40",
   "metadata": {},
   "source": [
    "sacri.info()"
   ]
  },
  {
   "cell_type": "markdown",
   "id": "e2a54e15",
   "metadata": {},
   "source": [
    "sacri.head()"
   ]
  },
  {
   "cell_type": "markdown",
   "id": "e531c92f",
   "metadata": {},
   "source": [
    "sacri.shape"
   ]
  },
  {
   "cell_type": "markdown",
   "id": "fa7bb8d7",
   "metadata": {},
   "source": [
    "## Join error"
   ]
  },
  {
   "cell_type": "markdown",
   "id": "1d0c5898",
   "metadata": {},
   "source": [
    "The following merge produced error that indicated that the date feature in sacri is considered an object whereas the date column in sv_vl is considered an Int. Looking at the .names file accompanying document, the feature should be populated with integers indicating the time passed since the start of the course."
   ]
  },
  {
   "cell_type": "markdown",
   "id": "21b15415",
   "metadata": {},
   "source": [
    "#merged_df = sv_vl.merge(sacri, on = ['code_module', 'code_presentation', 'date', 'id_student'])\n",
    "#merged_df.isna().sum()"
   ]
  },
  {
   "cell_type": "markdown",
   "id": "a512144c",
   "metadata": {},
   "source": [
    "## Diagnosis"
   ]
  },
  {
   "cell_type": "markdown",
   "id": "c13ef159",
   "metadata": {},
   "source": [
    "I first needed to identify what characters were being considered as objects rather than int's."
   ]
  },
  {
   "cell_type": "markdown",
   "id": "88d16e97",
   "metadata": {},
   "source": [
    "values_not_int = []\n",
    "values_int = []\n",
    "\n",
    "for index, row in sacri.iterrows():\n",
    "    if row['date'] is not int:\n",
    "        values_not_int.append(row['date'])\n",
    "        print(f'{row[\"date\"]}: {type(row[\"date\"])}')\n",
    "    else:\n",
    "        values_int.append(row['date'])\n",
    "\n",
    "values_int"
   ]
  },
  {
   "cell_type": "markdown",
   "id": "e68851bc",
   "metadata": {},
   "source": [
    "The loop indicated that all values were considered strings. So I needed to convert all values to an integer.\n",
    "\n",
    "The following code produced an error since '?' cannot be converted to int dtype."
   ]
  },
  {
   "cell_type": "markdown",
   "id": "8937466d",
   "metadata": {},
   "source": [
    "#for index, row in sacri.iterrows():\n",
    "#    row['date'] = int(row['date'])"
   ]
  },
  {
   "cell_type": "markdown",
   "id": "c8a34547",
   "metadata": {},
   "source": [
    "sacri[sacri.eq('?').any(1)]"
   ]
  },
  {
   "cell_type": "markdown",
   "id": "ce31c08f",
   "metadata": {},
   "source": [
    "Seeing that date_unregistration had '?', I decided to check all other merge stages."
   ]
  },
  {
   "cell_type": "markdown",
   "id": "f51eed3c",
   "metadata": {},
   "source": [
    "#in_re[in_re.eq('?').any(1)]"
   ]
  },
  {
   "cell_type": "markdown",
   "id": "78dcf459",
   "metadata": {},
   "source": [
    "#sta_ac[sta_ac.eq('?').any(1)]"
   ]
  },
  {
   "cell_type": "markdown",
   "id": "50adeb78",
   "metadata": {},
   "source": [
    "#as_co[as_co.eq('?').any(1)]"
   ]
  },
  {
   "cell_type": "markdown",
   "id": "708f5582",
   "metadata": {},
   "source": [
    "#sv_vl[sv_vl.eq('?').any(1)]"
   ]
  },
  {
   "cell_type": "markdown",
   "id": "ef849dda",
   "metadata": {},
   "source": [
    "All merges have missing data in the form of '?' which is why the initial merges did not show any missing data."
   ]
  },
  {
   "cell_type": "markdown",
   "id": "e70e60a6",
   "metadata": {},
   "source": [
    "## Missing original data"
   ]
  },
  {
   "cell_type": "markdown",
   "id": "295bf749",
   "metadata": {},
   "source": [
    "### Assess"
   ]
  },
  {
   "cell_type": "markdown",
   "id": "66050c85",
   "metadata": {},
   "source": [
    "Assess lists out the assignments associated with the respective modules and presentations."
   ]
  },
  {
   "cell_type": "markdown",
   "id": "6c3b7173",
   "metadata": {},
   "source": [
    "assess[assess.eq('?').any(1)]"
   ]
  },
  {
   "cell_type": "markdown",
   "id": "3e73f181",
   "metadata": {},
   "source": [
    "Since the missing data is the date the final submission date (int) for each assessment, we cannot drop those rows without damaging other df during merging. Since no supplemental data is available to determine the date, these dates will need to be imputed.\n",
    "\n",
    "Assuming that the last day to turn in any assignment is the end of the course, each value was imputed with the maximum date within the feature."
   ]
  },
  {
   "cell_type": "markdown",
   "id": "4de5ddf2",
   "metadata": {},
   "source": [
    "assess['date'].replace('?', np.nan, inplace = True)\n",
    "assess['date'] = pd.to_numeric(assess['date'], errors = 'coerce')\n",
    "for c in assess.columns:\n",
    "    assess_max = assess['date'].max()\n",
    "    assess['date'].replace('?', assess_max, inplace = True)\n",
    "#assess['date'] = assess['date'].astype('int64')\n",
    "\n",
    "assess['date'].dtypes"
   ]
  },
  {
   "cell_type": "markdown",
   "id": "5a8b47a3",
   "metadata": {},
   "source": [
    "assess.info()"
   ]
  },
  {
   "cell_type": "markdown",
   "id": "63f625f2",
   "metadata": {},
   "source": [
    "assess.isnull().sum()"
   ]
  },
  {
   "cell_type": "markdown",
   "id": "8d32a9a3",
   "metadata": {},
   "source": [
    "assess[assess['date'].isnull()]"
   ]
  },
  {
   "cell_type": "markdown",
   "id": "b3abc039",
   "metadata": {},
   "source": [
    "assess.info()"
   ]
  },
  {
   "cell_type": "markdown",
   "id": "003914ba",
   "metadata": {},
   "source": []
  },
  {
   "cell_type": "markdown",
   "id": "32357adf",
   "metadata": {},
   "source": []
  },
  {
   "cell_type": "markdown",
   "id": "2011aed7",
   "metadata": {},
   "source": [
    "courses[courses.eq('?').any(1)]"
   ]
  },
  {
   "cell_type": "markdown",
   "id": "6ea6072b",
   "metadata": {},
   "source": [
    "stassess[stassess.eq('?').any(1)]"
   ]
  },
  {
   "cell_type": "markdown",
   "id": "a8155a6e",
   "metadata": {},
   "source": [
    "stinfo[stinfo.eq('?').any(1)]"
   ]
  },
  {
   "cell_type": "markdown",
   "id": "8b9774eb",
   "metadata": {},
   "source": [
    "streg[streg.eq('?').any(1)]"
   ]
  },
  {
   "cell_type": "markdown",
   "id": "e9116fd7",
   "metadata": {},
   "source": [
    "stvle[stvle.eq('?').any(1)]"
   ]
  },
  {
   "cell_type": "markdown",
   "id": "0fb7ba9a",
   "metadata": {},
   "source": [
    "vle[vle.eq('?').any(1)]"
   ]
  },
  {
   "cell_type": "markdown",
   "id": "fea1e797",
   "metadata": {},
   "source": [
    "print(sacri['date'].isna().sum()/len(sacri['date']))"
   ]
  },
  {
   "cell_type": "markdown",
   "id": "1b88b52b",
   "metadata": {},
   "source": [
    "I am choosing to dropna all rows that have had a '?' converted to NaN since the amount of missing data is less than 2%"
   ]
  },
  {
   "cell_type": "markdown",
   "id": "04f79d33",
   "metadata": {},
   "source": [
    "sacri.dropna(subset = ['date'], inplace = True)\n",
    "sacri.shape"
   ]
  },
  {
   "cell_type": "markdown",
   "id": "bd4724c5",
   "metadata": {},
   "source": [
    "## Joining attempt 2"
   ]
  },
  {
   "cell_type": "markdown",
   "id": "05dca63c",
   "metadata": {},
   "source": [
    "After speaking with my mentor, I realized that there is a more streamline way to replace the '?' with NaN objects. I used the pd.read_csv() argument na_values = '?' to load the files with the NaN values. The following section will try to parse out what data I need to impute or manage prior to merging."
   ]
  },
  {
   "cell_type": "code",
   "execution_count": 29,
   "id": "04bc3b47",
   "metadata": {
    "scrolled": true
   },
   "outputs": [
    {
     "name": "stdout",
     "output_type": "stream",
     "text": [
      "assess\n",
      "code_module           0\n",
      "code_presentation     0\n",
      "id_assessment         0\n",
      "assessment_type       0\n",
      "date                 11\n",
      "weight                0\n",
      "dtype: int64\n",
      "(206, 6)\n",
      "\n",
      "courses\n",
      "code_module                   0\n",
      "code_presentation             0\n",
      "module_presentation_length    0\n",
      "dtype: int64\n",
      "(22, 3)\n",
      "\n",
      "stassess\n",
      "id_assessment       0\n",
      "id_student          0\n",
      "date_submitted      0\n",
      "is_banked           0\n",
      "score             173\n",
      "dtype: int64\n",
      "(173912, 5)\n",
      "\n",
      "stinfo\n",
      "code_module                0\n",
      "code_presentation          0\n",
      "id_student                 0\n",
      "gender                     0\n",
      "region                     0\n",
      "highest_education          0\n",
      "imd_band                1111\n",
      "age_band                   0\n",
      "num_of_prev_attempts       0\n",
      "studied_credits            0\n",
      "disability                 0\n",
      "final_result               0\n",
      "dtype: int64\n",
      "(32593, 12)\n",
      "\n",
      "streg\n",
      "code_module                0\n",
      "code_presentation          0\n",
      "id_student                 0\n",
      "date_registration         45\n",
      "date_unregistration    22521\n",
      "dtype: int64\n",
      "(32593, 5)\n",
      "\n",
      "stvle\n",
      "code_module          0\n",
      "code_presentation    0\n",
      "id_student           0\n",
      "id_site              0\n",
      "date                 0\n",
      "sum_click            0\n",
      "dtype: int64\n",
      "(10655280, 6)\n",
      "\n",
      "vle\n",
      "id_site                 0\n",
      "code_module             0\n",
      "code_presentation       0\n",
      "activity_type           0\n",
      "week_from            5243\n",
      "week_to              5243\n",
      "dtype: int64\n",
      "(6364, 6)\n",
      "\n"
     ]
    }
   ],
   "source": [
    "for i in ls_all_docs:\n",
    "    print(i.name)\n",
    "    print(i.isna().sum())\n",
    "    print(i.shape)\n",
    "    print()"
   ]
  },
  {
   "cell_type": "markdown",
   "id": "dd86c9c5",
   "metadata": {},
   "source": [
    "### Assessment"
   ]
  },
  {
   "cell_type": "markdown",
   "id": "d156e1ca",
   "metadata": {},
   "source": [
    "Since the missing data is the date the final submission date (int) for each assessment, we cannot drop those rows without damaging other df during merging. Since no supplemental data is available to determine the date, these dates will need to be imputed.\n",
    "\n",
    "Assuming that the last day to turn in any assignment is the end of the course, each value was imputed with the maximum date within the feature."
   ]
  },
  {
   "cell_type": "code",
   "execution_count": 30,
   "id": "18729c91",
   "metadata": {},
   "outputs": [
    {
     "data": {
      "text/plain": [
       "(206, 6)"
      ]
     },
     "execution_count": 30,
     "metadata": {},
     "output_type": "execute_result"
    }
   ],
   "source": [
    "assess.shape"
   ]
  },
  {
   "cell_type": "code",
   "execution_count": 31,
   "id": "2e0495ff",
   "metadata": {},
   "outputs": [],
   "source": [
    "assess['date'] = assess['date'].fillna(assess['date'].max())"
   ]
  },
  {
   "cell_type": "code",
   "execution_count": 32,
   "id": "d35d1b52",
   "metadata": {},
   "outputs": [
    {
     "data": {
      "text/plain": [
       "code_module          0\n",
       "code_presentation    0\n",
       "id_assessment        0\n",
       "assessment_type      0\n",
       "date                 0\n",
       "weight               0\n",
       "dtype: int64"
      ]
     },
     "execution_count": 32,
     "metadata": {},
     "output_type": "execute_result"
    }
   ],
   "source": [
    "assess.isna().sum()"
   ]
  },
  {
   "cell_type": "code",
   "execution_count": 33,
   "id": "fb32a391",
   "metadata": {},
   "outputs": [
    {
     "data": {
      "text/plain": [
       "(206, 6)"
      ]
     },
     "execution_count": 33,
     "metadata": {},
     "output_type": "execute_result"
    }
   ],
   "source": [
    "assess.shape"
   ]
  },
  {
   "cell_type": "markdown",
   "id": "aa3db822",
   "metadata": {},
   "source": [
    "### Student Assessment"
   ]
  },
  {
   "cell_type": "code",
   "execution_count": 34,
   "id": "0f3acec6",
   "metadata": {},
   "outputs": [
    {
     "data": {
      "text/plain": [
       "(173912, 5)"
      ]
     },
     "execution_count": 34,
     "metadata": {},
     "output_type": "execute_result"
    }
   ],
   "source": [
    "stassess.shape"
   ]
  },
  {
   "cell_type": "code",
   "execution_count": 35,
   "id": "a6f72d00",
   "metadata": {},
   "outputs": [
    {
     "data": {
      "text/html": [
       "<div>\n",
       "<style scoped>\n",
       "    .dataframe tbody tr th:only-of-type {\n",
       "        vertical-align: middle;\n",
       "    }\n",
       "\n",
       "    .dataframe tbody tr th {\n",
       "        vertical-align: top;\n",
       "    }\n",
       "\n",
       "    .dataframe thead th {\n",
       "        text-align: right;\n",
       "    }\n",
       "</style>\n",
       "<table border=\"1\" class=\"dataframe\">\n",
       "  <thead>\n",
       "    <tr style=\"text-align: right;\">\n",
       "      <th></th>\n",
       "      <th>id_assessment</th>\n",
       "      <th>id_student</th>\n",
       "      <th>date_submitted</th>\n",
       "      <th>is_banked</th>\n",
       "      <th>score</th>\n",
       "    </tr>\n",
       "    <tr>\n",
       "      <th>score</th>\n",
       "      <th></th>\n",
       "      <th></th>\n",
       "      <th></th>\n",
       "      <th></th>\n",
       "      <th></th>\n",
       "    </tr>\n",
       "  </thead>\n",
       "  <tbody>\n",
       "    <tr>\n",
       "      <th>(0, 40]</th>\n",
       "      <td>9215</td>\n",
       "      <td>9215</td>\n",
       "      <td>9215</td>\n",
       "      <td>9215</td>\n",
       "      <td>9215</td>\n",
       "    </tr>\n",
       "    <tr>\n",
       "      <th>(40, 50]</th>\n",
       "      <td>7401</td>\n",
       "      <td>7401</td>\n",
       "      <td>7401</td>\n",
       "      <td>7401</td>\n",
       "      <td>7401</td>\n",
       "    </tr>\n",
       "    <tr>\n",
       "      <th>(50, 60]</th>\n",
       "      <td>16561</td>\n",
       "      <td>16561</td>\n",
       "      <td>16561</td>\n",
       "      <td>16561</td>\n",
       "      <td>16561</td>\n",
       "    </tr>\n",
       "    <tr>\n",
       "      <th>(60, 70]</th>\n",
       "      <td>23920</td>\n",
       "      <td>23920</td>\n",
       "      <td>23920</td>\n",
       "      <td>23920</td>\n",
       "      <td>23920</td>\n",
       "    </tr>\n",
       "    <tr>\n",
       "      <th>(70, 80]</th>\n",
       "      <td>40752</td>\n",
       "      <td>40752</td>\n",
       "      <td>40752</td>\n",
       "      <td>40752</td>\n",
       "      <td>40752</td>\n",
       "    </tr>\n",
       "    <tr>\n",
       "      <th>(80, 90]</th>\n",
       "      <td>36330</td>\n",
       "      <td>36330</td>\n",
       "      <td>36330</td>\n",
       "      <td>36330</td>\n",
       "      <td>36330</td>\n",
       "    </tr>\n",
       "    <tr>\n",
       "      <th>(90, 100]</th>\n",
       "      <td>39231</td>\n",
       "      <td>39231</td>\n",
       "      <td>39231</td>\n",
       "      <td>39231</td>\n",
       "      <td>39231</td>\n",
       "    </tr>\n",
       "  </tbody>\n",
       "</table>\n",
       "</div>"
      ],
      "text/plain": [
       "           id_assessment  id_student  date_submitted  is_banked  score\n",
       "score                                                                 \n",
       "(0, 40]             9215        9215            9215       9215   9215\n",
       "(40, 50]            7401        7401            7401       7401   7401\n",
       "(50, 60]           16561       16561           16561      16561  16561\n",
       "(60, 70]           23920       23920           23920      23920  23920\n",
       "(70, 80]           40752       40752           40752      40752  40752\n",
       "(80, 90]           36330       36330           36330      36330  36330\n",
       "(90, 100]          39231       39231           39231      39231  39231"
      ]
     },
     "execution_count": 35,
     "metadata": {},
     "output_type": "execute_result"
    }
   ],
   "source": [
    "ranges = [0, 40, 50, 60, 70, 80, 90, 100]\n",
    "stassess.groupby(pd.cut(stassess['score'], ranges)).count()"
   ]
  },
  {
   "cell_type": "markdown",
   "id": "45903e7f",
   "metadata": {},
   "source": [
    "Missing values imply that the grade was not able to be reported for each of the 173 student assignments. Since the scores are being investigated as dependent variables, their presence is crucial to the study. Dropping the 173 student assignments will minimally (0.09% of the sample population) impact the study."
   ]
  },
  {
   "cell_type": "code",
   "execution_count": 36,
   "id": "b0c3547e",
   "metadata": {},
   "outputs": [],
   "source": [
    "stassess_drop = stassess.dropna()"
   ]
  },
  {
   "cell_type": "code",
   "execution_count": 37,
   "id": "afaf7b34",
   "metadata": {},
   "outputs": [
    {
     "data": {
      "text/plain": [
       "id_assessment     0\n",
       "id_student        0\n",
       "date_submitted    0\n",
       "is_banked         0\n",
       "score             0\n",
       "dtype: int64"
      ]
     },
     "execution_count": 37,
     "metadata": {},
     "output_type": "execute_result"
    }
   ],
   "source": [
    "stassess_drop.isna().sum()"
   ]
  },
  {
   "cell_type": "code",
   "execution_count": 38,
   "id": "9294aab2",
   "metadata": {},
   "outputs": [
    {
     "data": {
      "text/plain": [
       "(173739, 5)"
      ]
     },
     "execution_count": 38,
     "metadata": {},
     "output_type": "execute_result"
    }
   ],
   "source": [
    "stassess_drop.shape"
   ]
  },
  {
   "cell_type": "markdown",
   "id": "6873f3aa",
   "metadata": {},
   "source": [
    "### Student Info"
   ]
  },
  {
   "cell_type": "code",
   "execution_count": 39,
   "id": "357b3cda",
   "metadata": {},
   "outputs": [
    {
     "data": {
      "text/plain": [
       "(32593, 12)"
      ]
     },
     "execution_count": 39,
     "metadata": {},
     "output_type": "execute_result"
    }
   ],
   "source": [
    "stinfo.shape"
   ]
  },
  {
   "cell_type": "code",
   "execution_count": 40,
   "id": "9e1dfbff",
   "metadata": {},
   "outputs": [
    {
     "data": {
      "text/html": [
       "<div>\n",
       "<style scoped>\n",
       "    .dataframe tbody tr th:only-of-type {\n",
       "        vertical-align: middle;\n",
       "    }\n",
       "\n",
       "    .dataframe tbody tr th {\n",
       "        vertical-align: top;\n",
       "    }\n",
       "\n",
       "    .dataframe thead th {\n",
       "        text-align: right;\n",
       "    }\n",
       "</style>\n",
       "<table border=\"1\" class=\"dataframe\">\n",
       "  <thead>\n",
       "    <tr style=\"text-align: right;\">\n",
       "      <th></th>\n",
       "      <th>code_module</th>\n",
       "      <th>code_presentation</th>\n",
       "      <th>id_student</th>\n",
       "      <th>gender</th>\n",
       "      <th>region</th>\n",
       "      <th>highest_education</th>\n",
       "      <th>imd_band</th>\n",
       "      <th>age_band</th>\n",
       "      <th>num_of_prev_attempts</th>\n",
       "      <th>studied_credits</th>\n",
       "      <th>disability</th>\n",
       "      <th>final_result</th>\n",
       "    </tr>\n",
       "  </thead>\n",
       "  <tbody>\n",
       "    <tr>\n",
       "      <th>0</th>\n",
       "      <td>AAA</td>\n",
       "      <td>2013J</td>\n",
       "      <td>11391</td>\n",
       "      <td>M</td>\n",
       "      <td>East Anglian Region</td>\n",
       "      <td>HE Qualification</td>\n",
       "      <td>90-100%</td>\n",
       "      <td>55&lt;=</td>\n",
       "      <td>0</td>\n",
       "      <td>240</td>\n",
       "      <td>N</td>\n",
       "      <td>Pass</td>\n",
       "    </tr>\n",
       "    <tr>\n",
       "      <th>1</th>\n",
       "      <td>AAA</td>\n",
       "      <td>2013J</td>\n",
       "      <td>28400</td>\n",
       "      <td>F</td>\n",
       "      <td>Scotland</td>\n",
       "      <td>HE Qualification</td>\n",
       "      <td>20-30%</td>\n",
       "      <td>35-55</td>\n",
       "      <td>0</td>\n",
       "      <td>60</td>\n",
       "      <td>N</td>\n",
       "      <td>Pass</td>\n",
       "    </tr>\n",
       "    <tr>\n",
       "      <th>2</th>\n",
       "      <td>AAA</td>\n",
       "      <td>2013J</td>\n",
       "      <td>30268</td>\n",
       "      <td>F</td>\n",
       "      <td>North Western Region</td>\n",
       "      <td>A Level or Equivalent</td>\n",
       "      <td>30-40%</td>\n",
       "      <td>35-55</td>\n",
       "      <td>0</td>\n",
       "      <td>60</td>\n",
       "      <td>Y</td>\n",
       "      <td>Withdrawn</td>\n",
       "    </tr>\n",
       "    <tr>\n",
       "      <th>3</th>\n",
       "      <td>AAA</td>\n",
       "      <td>2013J</td>\n",
       "      <td>31604</td>\n",
       "      <td>F</td>\n",
       "      <td>South East Region</td>\n",
       "      <td>A Level or Equivalent</td>\n",
       "      <td>50-60%</td>\n",
       "      <td>35-55</td>\n",
       "      <td>0</td>\n",
       "      <td>60</td>\n",
       "      <td>N</td>\n",
       "      <td>Pass</td>\n",
       "    </tr>\n",
       "    <tr>\n",
       "      <th>4</th>\n",
       "      <td>AAA</td>\n",
       "      <td>2013J</td>\n",
       "      <td>32885</td>\n",
       "      <td>F</td>\n",
       "      <td>West Midlands Region</td>\n",
       "      <td>Lower Than A Level</td>\n",
       "      <td>50-60%</td>\n",
       "      <td>0-35</td>\n",
       "      <td>0</td>\n",
       "      <td>60</td>\n",
       "      <td>N</td>\n",
       "      <td>Pass</td>\n",
       "    </tr>\n",
       "  </tbody>\n",
       "</table>\n",
       "</div>"
      ],
      "text/plain": [
       "  code_module code_presentation  id_student gender                region  \\\n",
       "0         AAA             2013J       11391      M   East Anglian Region   \n",
       "1         AAA             2013J       28400      F              Scotland   \n",
       "2         AAA             2013J       30268      F  North Western Region   \n",
       "3         AAA             2013J       31604      F     South East Region   \n",
       "4         AAA             2013J       32885      F  West Midlands Region   \n",
       "\n",
       "       highest_education imd_band age_band  num_of_prev_attempts  \\\n",
       "0       HE Qualification  90-100%     55<=                     0   \n",
       "1       HE Qualification   20-30%    35-55                     0   \n",
       "2  A Level or Equivalent   30-40%    35-55                     0   \n",
       "3  A Level or Equivalent   50-60%    35-55                     0   \n",
       "4     Lower Than A Level   50-60%     0-35                     0   \n",
       "\n",
       "   studied_credits disability final_result  \n",
       "0              240          N         Pass  \n",
       "1               60          N         Pass  \n",
       "2               60          Y    Withdrawn  \n",
       "3               60          N         Pass  \n",
       "4               60          N         Pass  "
      ]
     },
     "execution_count": 40,
     "metadata": {},
     "output_type": "execute_result"
    }
   ],
   "source": [
    "stinfo.head()"
   ]
  },
  {
   "cell_type": "code",
   "execution_count": 41,
   "id": "8bba24f9",
   "metadata": {},
   "outputs": [
    {
     "data": {
      "text/plain": [
       "20-30%     3654\n",
       "30-40%     3539\n",
       "10-20      3516\n",
       "0-10%      3311\n",
       "40-50%     3256\n",
       "50-60%     3124\n",
       "60-70%     2905\n",
       "70-80%     2879\n",
       "80-90%     2762\n",
       "90-100%    2536\n",
       "Name: imd_band, dtype: int64"
      ]
     },
     "execution_count": 41,
     "metadata": {},
     "output_type": "execute_result"
    }
   ],
   "source": [
    "stinfo['imd_band'].value_counts()"
   ]
  },
  {
   "cell_type": "code",
   "execution_count": 42,
   "id": "2c2c462c",
   "metadata": {},
   "outputs": [
    {
     "data": {
      "text/plain": [
       "20-30%     3654\n",
       "30-40%     3539\n",
       "10-20%     3516\n",
       "0-10%      3311\n",
       "40-50%     3256\n",
       "50-60%     3124\n",
       "60-70%     2905\n",
       "70-80%     2879\n",
       "80-90%     2762\n",
       "90-100%    2536\n",
       "Name: imd_band, dtype: int64"
      ]
     },
     "execution_count": 42,
     "metadata": {},
     "output_type": "execute_result"
    }
   ],
   "source": [
    "stinfo.loc[(stinfo['imd_band'] == '10-20'),'imd_band'] = stinfo['imd_band'] + '%'\n",
    "stinfo['imd_band'].value_counts()"
   ]
  },
  {
   "cell_type": "markdown",
   "id": "847dd841",
   "metadata": {},
   "source": [
    "Since 3% of the data would be impacted, the rows with missing data will be dropped. It is unknown if the economic status (imd_band) would impact the interactions so we cannot drop that column."
   ]
  },
  {
   "cell_type": "code",
   "execution_count": 43,
   "id": "00872f02",
   "metadata": {},
   "outputs": [
    {
     "data": {
      "text/plain": [
       "code_module             0\n",
       "code_presentation       0\n",
       "id_student              0\n",
       "gender                  0\n",
       "region                  0\n",
       "highest_education       0\n",
       "imd_band                0\n",
       "age_band                0\n",
       "num_of_prev_attempts    0\n",
       "studied_credits         0\n",
       "disability              0\n",
       "final_result            0\n",
       "dtype: int64"
      ]
     },
     "execution_count": 43,
     "metadata": {},
     "output_type": "execute_result"
    }
   ],
   "source": [
    "stinfo_drop = stinfo.dropna()\n",
    "stinfo_drop.isna().sum()"
   ]
  },
  {
   "cell_type": "code",
   "execution_count": 44,
   "id": "698c77c8",
   "metadata": {},
   "outputs": [
    {
     "data": {
      "text/plain": [
       "(31482, 12)"
      ]
     },
     "execution_count": 44,
     "metadata": {},
     "output_type": "execute_result"
    }
   ],
   "source": [
    "stinfo_drop.shape"
   ]
  },
  {
   "cell_type": "markdown",
   "id": "6947b5c5",
   "metadata": {},
   "source": [
    "### Student Registration"
   ]
  },
  {
   "cell_type": "code",
   "execution_count": 45,
   "id": "6349a241",
   "metadata": {},
   "outputs": [
    {
     "data": {
      "text/plain": [
       "(32593, 5)"
      ]
     },
     "execution_count": 45,
     "metadata": {},
     "output_type": "execute_result"
    }
   ],
   "source": [
    "streg.shape"
   ]
  },
  {
   "cell_type": "code",
   "execution_count": 46,
   "id": "cccb4475",
   "metadata": {},
   "outputs": [
    {
     "data": {
      "text/html": [
       "<div>\n",
       "<style scoped>\n",
       "    .dataframe tbody tr th:only-of-type {\n",
       "        vertical-align: middle;\n",
       "    }\n",
       "\n",
       "    .dataframe tbody tr th {\n",
       "        vertical-align: top;\n",
       "    }\n",
       "\n",
       "    .dataframe thead th {\n",
       "        text-align: right;\n",
       "    }\n",
       "</style>\n",
       "<table border=\"1\" class=\"dataframe\">\n",
       "  <thead>\n",
       "    <tr style=\"text-align: right;\">\n",
       "      <th></th>\n",
       "      <th>code_module</th>\n",
       "      <th>code_presentation</th>\n",
       "      <th>id_student</th>\n",
       "      <th>date_registration</th>\n",
       "      <th>date_unregistration</th>\n",
       "    </tr>\n",
       "  </thead>\n",
       "  <tbody>\n",
       "    <tr>\n",
       "      <th>0</th>\n",
       "      <td>AAA</td>\n",
       "      <td>2013J</td>\n",
       "      <td>11391</td>\n",
       "      <td>-159.0</td>\n",
       "      <td>NaN</td>\n",
       "    </tr>\n",
       "    <tr>\n",
       "      <th>1</th>\n",
       "      <td>AAA</td>\n",
       "      <td>2013J</td>\n",
       "      <td>28400</td>\n",
       "      <td>-53.0</td>\n",
       "      <td>NaN</td>\n",
       "    </tr>\n",
       "    <tr>\n",
       "      <th>2</th>\n",
       "      <td>AAA</td>\n",
       "      <td>2013J</td>\n",
       "      <td>30268</td>\n",
       "      <td>-92.0</td>\n",
       "      <td>12.0</td>\n",
       "    </tr>\n",
       "    <tr>\n",
       "      <th>3</th>\n",
       "      <td>AAA</td>\n",
       "      <td>2013J</td>\n",
       "      <td>31604</td>\n",
       "      <td>-52.0</td>\n",
       "      <td>NaN</td>\n",
       "    </tr>\n",
       "    <tr>\n",
       "      <th>4</th>\n",
       "      <td>AAA</td>\n",
       "      <td>2013J</td>\n",
       "      <td>32885</td>\n",
       "      <td>-176.0</td>\n",
       "      <td>NaN</td>\n",
       "    </tr>\n",
       "  </tbody>\n",
       "</table>\n",
       "</div>"
      ],
      "text/plain": [
       "  code_module code_presentation  id_student  date_registration  \\\n",
       "0         AAA             2013J       11391             -159.0   \n",
       "1         AAA             2013J       28400              -53.0   \n",
       "2         AAA             2013J       30268              -92.0   \n",
       "3         AAA             2013J       31604              -52.0   \n",
       "4         AAA             2013J       32885             -176.0   \n",
       "\n",
       "   date_unregistration  \n",
       "0                  NaN  \n",
       "1                  NaN  \n",
       "2                 12.0  \n",
       "3                  NaN  \n",
       "4                  NaN  "
      ]
     },
     "execution_count": 46,
     "metadata": {},
     "output_type": "execute_result"
    }
   ],
   "source": [
    "streg.head()"
   ]
  },
  {
   "cell_type": "markdown",
   "id": "fbde191c",
   "metadata": {},
   "source": [
    "The goal is to determine features that may predict student success and engagement for these reasons, the students that unregistered will be dropped and the date of unregistration will be ignored (drop)."
   ]
  },
  {
   "cell_type": "code",
   "execution_count": 47,
   "id": "4231a5aa",
   "metadata": {},
   "outputs": [
    {
     "data": {
      "text/plain": [
       "(22521, 5)"
      ]
     },
     "execution_count": 47,
     "metadata": {},
     "output_type": "execute_result"
    }
   ],
   "source": [
    "streg_completed = streg[pd.isnull(streg['date_unregistration'])]\n",
    "streg_completed.shape"
   ]
  },
  {
   "cell_type": "code",
   "execution_count": 48,
   "id": "073cb0a9",
   "metadata": {},
   "outputs": [
    {
     "data": {
      "text/plain": [
       "(22521, 4)"
      ]
     },
     "execution_count": 48,
     "metadata": {},
     "output_type": "execute_result"
    }
   ],
   "source": [
    "streg_drop = streg_completed.drop(columns = 'date_unregistration')\n",
    "streg_drop.shape"
   ]
  },
  {
   "cell_type": "code",
   "execution_count": 49,
   "id": "67aebf7f",
   "metadata": {},
   "outputs": [
    {
     "data": {
      "text/plain": [
       "code_module          0\n",
       "code_presentation    0\n",
       "id_student           0\n",
       "date_registration    6\n",
       "dtype: int64"
      ]
     },
     "execution_count": 49,
     "metadata": {},
     "output_type": "execute_result"
    }
   ],
   "source": [
    "streg_drop.isna().sum()"
   ]
  },
  {
   "cell_type": "code",
   "execution_count": 50,
   "id": "016954f4",
   "metadata": {},
   "outputs": [
    {
     "data": {
      "text/plain": [
       "code_module          0\n",
       "code_presentation    0\n",
       "id_student           0\n",
       "date_registration    0\n",
       "dtype: int64"
      ]
     },
     "execution_count": 50,
     "metadata": {},
     "output_type": "execute_result"
    }
   ],
   "source": [
    "streg_df = streg_drop.dropna()\n",
    "streg_df.isna().sum()"
   ]
  },
  {
   "cell_type": "code",
   "execution_count": 51,
   "id": "25bb7cca",
   "metadata": {},
   "outputs": [
    {
     "data": {
      "text/plain": [
       "(22515, 4)"
      ]
     },
     "execution_count": 51,
     "metadata": {},
     "output_type": "execute_result"
    }
   ],
   "source": [
    "streg_df.shape"
   ]
  },
  {
   "cell_type": "markdown",
   "id": "8cf30a7e",
   "metadata": {},
   "source": [
    "### VLE"
   ]
  },
  {
   "cell_type": "markdown",
   "id": "71c3a351",
   "metadata": {},
   "source": [
    "The start and end dates of the modules are going to be considered not relavent to whether students succeed or fail. The two columns (week_from and week_to) will be dropped from analysis."
   ]
  },
  {
   "cell_type": "code",
   "execution_count": 52,
   "id": "74e0254d",
   "metadata": {},
   "outputs": [
    {
     "data": {
      "text/plain": [
       "(6364, 6)"
      ]
     },
     "execution_count": 52,
     "metadata": {},
     "output_type": "execute_result"
    }
   ],
   "source": [
    "vle.shape"
   ]
  },
  {
   "cell_type": "code",
   "execution_count": 53,
   "id": "f9b10a7d",
   "metadata": {},
   "outputs": [
    {
     "data": {
      "text/html": [
       "<div>\n",
       "<style scoped>\n",
       "    .dataframe tbody tr th:only-of-type {\n",
       "        vertical-align: middle;\n",
       "    }\n",
       "\n",
       "    .dataframe tbody tr th {\n",
       "        vertical-align: top;\n",
       "    }\n",
       "\n",
       "    .dataframe thead th {\n",
       "        text-align: right;\n",
       "    }\n",
       "</style>\n",
       "<table border=\"1\" class=\"dataframe\">\n",
       "  <thead>\n",
       "    <tr style=\"text-align: right;\">\n",
       "      <th></th>\n",
       "      <th>id_site</th>\n",
       "      <th>code_module</th>\n",
       "      <th>code_presentation</th>\n",
       "      <th>activity_type</th>\n",
       "      <th>week_from</th>\n",
       "      <th>week_to</th>\n",
       "    </tr>\n",
       "  </thead>\n",
       "  <tbody>\n",
       "    <tr>\n",
       "      <th>0</th>\n",
       "      <td>546943</td>\n",
       "      <td>AAA</td>\n",
       "      <td>2013J</td>\n",
       "      <td>resource</td>\n",
       "      <td>NaN</td>\n",
       "      <td>NaN</td>\n",
       "    </tr>\n",
       "    <tr>\n",
       "      <th>1</th>\n",
       "      <td>546712</td>\n",
       "      <td>AAA</td>\n",
       "      <td>2013J</td>\n",
       "      <td>oucontent</td>\n",
       "      <td>NaN</td>\n",
       "      <td>NaN</td>\n",
       "    </tr>\n",
       "    <tr>\n",
       "      <th>2</th>\n",
       "      <td>546998</td>\n",
       "      <td>AAA</td>\n",
       "      <td>2013J</td>\n",
       "      <td>resource</td>\n",
       "      <td>NaN</td>\n",
       "      <td>NaN</td>\n",
       "    </tr>\n",
       "    <tr>\n",
       "      <th>3</th>\n",
       "      <td>546888</td>\n",
       "      <td>AAA</td>\n",
       "      <td>2013J</td>\n",
       "      <td>url</td>\n",
       "      <td>NaN</td>\n",
       "      <td>NaN</td>\n",
       "    </tr>\n",
       "    <tr>\n",
       "      <th>4</th>\n",
       "      <td>547035</td>\n",
       "      <td>AAA</td>\n",
       "      <td>2013J</td>\n",
       "      <td>resource</td>\n",
       "      <td>NaN</td>\n",
       "      <td>NaN</td>\n",
       "    </tr>\n",
       "  </tbody>\n",
       "</table>\n",
       "</div>"
      ],
      "text/plain": [
       "   id_site code_module code_presentation activity_type  week_from  week_to\n",
       "0   546943         AAA             2013J      resource        NaN      NaN\n",
       "1   546712         AAA             2013J     oucontent        NaN      NaN\n",
       "2   546998         AAA             2013J      resource        NaN      NaN\n",
       "3   546888         AAA             2013J           url        NaN      NaN\n",
       "4   547035         AAA             2013J      resource        NaN      NaN"
      ]
     },
     "execution_count": 53,
     "metadata": {},
     "output_type": "execute_result"
    }
   ],
   "source": [
    "vle.head()"
   ]
  },
  {
   "cell_type": "code",
   "execution_count": 54,
   "id": "fdb964f4",
   "metadata": {},
   "outputs": [
    {
     "data": {
      "text/plain": [
       "(6364, 4)"
      ]
     },
     "execution_count": 54,
     "metadata": {},
     "output_type": "execute_result"
    }
   ],
   "source": [
    "vle_drop = vle.drop(columns = ['week_from', 'week_to'])\n",
    "vle_drop.shape"
   ]
  },
  {
   "cell_type": "code",
   "execution_count": 55,
   "id": "d1407629",
   "metadata": {},
   "outputs": [
    {
     "data": {
      "text/plain": [
       "code_module                   0\n",
       "code_presentation             0\n",
       "id_assessment                 0\n",
       "assessment_type               0\n",
       "date                          0\n",
       "weight                        0\n",
       "module_presentation_length    0\n",
       "dtype: int64"
      ]
     },
     "execution_count": 55,
     "metadata": {},
     "output_type": "execute_result"
    }
   ],
   "source": [
    "as_co = assess.merge(courses, on = ['code_module', 'code_presentation'])\n",
    "as_co.isna().sum()"
   ]
  },
  {
   "cell_type": "code",
   "execution_count": 56,
   "id": "abe5803e",
   "metadata": {},
   "outputs": [
    {
     "data": {
      "text/plain": [
       "(206, 7)"
      ]
     },
     "execution_count": 56,
     "metadata": {},
     "output_type": "execute_result"
    }
   ],
   "source": [
    "as_co.shape"
   ]
  },
  {
   "cell_type": "code",
   "execution_count": 57,
   "id": "ffb95440",
   "metadata": {},
   "outputs": [
    {
     "data": {
      "text/html": [
       "<div>\n",
       "<style scoped>\n",
       "    .dataframe tbody tr th:only-of-type {\n",
       "        vertical-align: middle;\n",
       "    }\n",
       "\n",
       "    .dataframe tbody tr th {\n",
       "        vertical-align: top;\n",
       "    }\n",
       "\n",
       "    .dataframe thead th {\n",
       "        text-align: right;\n",
       "    }\n",
       "</style>\n",
       "<table border=\"1\" class=\"dataframe\">\n",
       "  <thead>\n",
       "    <tr style=\"text-align: right;\">\n",
       "      <th></th>\n",
       "      <th>code_module</th>\n",
       "      <th>code_presentation</th>\n",
       "      <th>id_assessment</th>\n",
       "      <th>assessment_type</th>\n",
       "      <th>date</th>\n",
       "      <th>weight</th>\n",
       "      <th>module_presentation_length</th>\n",
       "    </tr>\n",
       "  </thead>\n",
       "  <tbody>\n",
       "    <tr>\n",
       "      <th>0</th>\n",
       "      <td>AAA</td>\n",
       "      <td>2013J</td>\n",
       "      <td>1752</td>\n",
       "      <td>TMA</td>\n",
       "      <td>19.0</td>\n",
       "      <td>10.0</td>\n",
       "      <td>268</td>\n",
       "    </tr>\n",
       "    <tr>\n",
       "      <th>1</th>\n",
       "      <td>AAA</td>\n",
       "      <td>2013J</td>\n",
       "      <td>1753</td>\n",
       "      <td>TMA</td>\n",
       "      <td>54.0</td>\n",
       "      <td>20.0</td>\n",
       "      <td>268</td>\n",
       "    </tr>\n",
       "    <tr>\n",
       "      <th>2</th>\n",
       "      <td>AAA</td>\n",
       "      <td>2013J</td>\n",
       "      <td>1754</td>\n",
       "      <td>TMA</td>\n",
       "      <td>117.0</td>\n",
       "      <td>20.0</td>\n",
       "      <td>268</td>\n",
       "    </tr>\n",
       "    <tr>\n",
       "      <th>3</th>\n",
       "      <td>AAA</td>\n",
       "      <td>2013J</td>\n",
       "      <td>1755</td>\n",
       "      <td>TMA</td>\n",
       "      <td>166.0</td>\n",
       "      <td>20.0</td>\n",
       "      <td>268</td>\n",
       "    </tr>\n",
       "    <tr>\n",
       "      <th>4</th>\n",
       "      <td>AAA</td>\n",
       "      <td>2013J</td>\n",
       "      <td>1756</td>\n",
       "      <td>TMA</td>\n",
       "      <td>215.0</td>\n",
       "      <td>30.0</td>\n",
       "      <td>268</td>\n",
       "    </tr>\n",
       "  </tbody>\n",
       "</table>\n",
       "</div>"
      ],
      "text/plain": [
       "  code_module code_presentation  id_assessment assessment_type   date  weight  \\\n",
       "0         AAA             2013J           1752             TMA   19.0    10.0   \n",
       "1         AAA             2013J           1753             TMA   54.0    20.0   \n",
       "2         AAA             2013J           1754             TMA  117.0    20.0   \n",
       "3         AAA             2013J           1755             TMA  166.0    20.0   \n",
       "4         AAA             2013J           1756             TMA  215.0    30.0   \n",
       "\n",
       "   module_presentation_length  \n",
       "0                         268  \n",
       "1                         268  \n",
       "2                         268  \n",
       "3                         268  \n",
       "4                         268  "
      ]
     },
     "execution_count": 57,
     "metadata": {},
     "output_type": "execute_result"
    }
   ],
   "source": [
    "as_co.head()"
   ]
  },
  {
   "cell_type": "code",
   "execution_count": 58,
   "id": "67a15331",
   "metadata": {},
   "outputs": [
    {
     "data": {
      "text/plain": [
       "id_assessment                 0\n",
       "id_student                    0\n",
       "date_submitted                0\n",
       "is_banked                     0\n",
       "score                         0\n",
       "code_module                   0\n",
       "code_presentation             0\n",
       "assessment_type               0\n",
       "date                          0\n",
       "weight                        0\n",
       "module_presentation_length    0\n",
       "dtype: int64"
      ]
     },
     "execution_count": 58,
     "metadata": {},
     "output_type": "execute_result"
    }
   ],
   "source": [
    "sta_ac = stassess_drop.merge(as_co, on = 'id_assessment')\n",
    "sta_ac.isna().sum()"
   ]
  },
  {
   "cell_type": "code",
   "execution_count": 59,
   "id": "bf9ae05f",
   "metadata": {},
   "outputs": [
    {
     "data": {
      "text/html": [
       "<div>\n",
       "<style scoped>\n",
       "    .dataframe tbody tr th:only-of-type {\n",
       "        vertical-align: middle;\n",
       "    }\n",
       "\n",
       "    .dataframe tbody tr th {\n",
       "        vertical-align: top;\n",
       "    }\n",
       "\n",
       "    .dataframe thead th {\n",
       "        text-align: right;\n",
       "    }\n",
       "</style>\n",
       "<table border=\"1\" class=\"dataframe\">\n",
       "  <thead>\n",
       "    <tr style=\"text-align: right;\">\n",
       "      <th></th>\n",
       "      <th>id_assessment</th>\n",
       "      <th>id_student</th>\n",
       "      <th>date_submitted</th>\n",
       "      <th>is_banked</th>\n",
       "      <th>score</th>\n",
       "      <th>code_module</th>\n",
       "      <th>code_presentation</th>\n",
       "      <th>assessment_type</th>\n",
       "      <th>date</th>\n",
       "      <th>weight</th>\n",
       "      <th>module_presentation_length</th>\n",
       "    </tr>\n",
       "  </thead>\n",
       "  <tbody>\n",
       "    <tr>\n",
       "      <th>0</th>\n",
       "      <td>1752</td>\n",
       "      <td>11391</td>\n",
       "      <td>18</td>\n",
       "      <td>0</td>\n",
       "      <td>78.0</td>\n",
       "      <td>AAA</td>\n",
       "      <td>2013J</td>\n",
       "      <td>TMA</td>\n",
       "      <td>19.0</td>\n",
       "      <td>10.0</td>\n",
       "      <td>268</td>\n",
       "    </tr>\n",
       "    <tr>\n",
       "      <th>1</th>\n",
       "      <td>1752</td>\n",
       "      <td>28400</td>\n",
       "      <td>22</td>\n",
       "      <td>0</td>\n",
       "      <td>70.0</td>\n",
       "      <td>AAA</td>\n",
       "      <td>2013J</td>\n",
       "      <td>TMA</td>\n",
       "      <td>19.0</td>\n",
       "      <td>10.0</td>\n",
       "      <td>268</td>\n",
       "    </tr>\n",
       "    <tr>\n",
       "      <th>2</th>\n",
       "      <td>1752</td>\n",
       "      <td>31604</td>\n",
       "      <td>17</td>\n",
       "      <td>0</td>\n",
       "      <td>72.0</td>\n",
       "      <td>AAA</td>\n",
       "      <td>2013J</td>\n",
       "      <td>TMA</td>\n",
       "      <td>19.0</td>\n",
       "      <td>10.0</td>\n",
       "      <td>268</td>\n",
       "    </tr>\n",
       "    <tr>\n",
       "      <th>3</th>\n",
       "      <td>1752</td>\n",
       "      <td>32885</td>\n",
       "      <td>26</td>\n",
       "      <td>0</td>\n",
       "      <td>69.0</td>\n",
       "      <td>AAA</td>\n",
       "      <td>2013J</td>\n",
       "      <td>TMA</td>\n",
       "      <td>19.0</td>\n",
       "      <td>10.0</td>\n",
       "      <td>268</td>\n",
       "    </tr>\n",
       "    <tr>\n",
       "      <th>4</th>\n",
       "      <td>1752</td>\n",
       "      <td>38053</td>\n",
       "      <td>19</td>\n",
       "      <td>0</td>\n",
       "      <td>79.0</td>\n",
       "      <td>AAA</td>\n",
       "      <td>2013J</td>\n",
       "      <td>TMA</td>\n",
       "      <td>19.0</td>\n",
       "      <td>10.0</td>\n",
       "      <td>268</td>\n",
       "    </tr>\n",
       "  </tbody>\n",
       "</table>\n",
       "</div>"
      ],
      "text/plain": [
       "   id_assessment  id_student  date_submitted  is_banked  score code_module  \\\n",
       "0           1752       11391              18          0   78.0         AAA   \n",
       "1           1752       28400              22          0   70.0         AAA   \n",
       "2           1752       31604              17          0   72.0         AAA   \n",
       "3           1752       32885              26          0   69.0         AAA   \n",
       "4           1752       38053              19          0   79.0         AAA   \n",
       "\n",
       "  code_presentation assessment_type  date  weight  module_presentation_length  \n",
       "0             2013J             TMA  19.0    10.0                         268  \n",
       "1             2013J             TMA  19.0    10.0                         268  \n",
       "2             2013J             TMA  19.0    10.0                         268  \n",
       "3             2013J             TMA  19.0    10.0                         268  \n",
       "4             2013J             TMA  19.0    10.0                         268  "
      ]
     },
     "execution_count": 59,
     "metadata": {},
     "output_type": "execute_result"
    }
   ],
   "source": [
    "sta_ac.head()"
   ]
  },
  {
   "cell_type": "code",
   "execution_count": 60,
   "id": "b11a4110",
   "metadata": {},
   "outputs": [
    {
     "data": {
      "text/plain": [
       "(173739, 11)"
      ]
     },
     "execution_count": 60,
     "metadata": {},
     "output_type": "execute_result"
    }
   ],
   "source": [
    "sta_ac.shape"
   ]
  },
  {
   "cell_type": "code",
   "execution_count": 61,
   "id": "d2a232be",
   "metadata": {},
   "outputs": [
    {
     "data": {
      "text/plain": [
       "code_module             0\n",
       "code_presentation       0\n",
       "id_student              0\n",
       "gender                  0\n",
       "region                  0\n",
       "highest_education       0\n",
       "imd_band                0\n",
       "age_band                0\n",
       "num_of_prev_attempts    0\n",
       "studied_credits         0\n",
       "disability              0\n",
       "final_result            0\n",
       "date_registration       0\n",
       "dtype: int64"
      ]
     },
     "execution_count": 61,
     "metadata": {},
     "output_type": "execute_result"
    }
   ],
   "source": [
    "in_re = stinfo_drop.merge(streg_df, on = ['code_module', 'code_presentation', 'id_student'])\n",
    "in_re.isna().sum()"
   ]
  },
  {
   "cell_type": "code",
   "execution_count": 62,
   "id": "8e9101b3",
   "metadata": {},
   "outputs": [
    {
     "data": {
      "text/html": [
       "<div>\n",
       "<style scoped>\n",
       "    .dataframe tbody tr th:only-of-type {\n",
       "        vertical-align: middle;\n",
       "    }\n",
       "\n",
       "    .dataframe tbody tr th {\n",
       "        vertical-align: top;\n",
       "    }\n",
       "\n",
       "    .dataframe thead th {\n",
       "        text-align: right;\n",
       "    }\n",
       "</style>\n",
       "<table border=\"1\" class=\"dataframe\">\n",
       "  <thead>\n",
       "    <tr style=\"text-align: right;\">\n",
       "      <th></th>\n",
       "      <th>code_module</th>\n",
       "      <th>code_presentation</th>\n",
       "      <th>id_student</th>\n",
       "      <th>gender</th>\n",
       "      <th>region</th>\n",
       "      <th>highest_education</th>\n",
       "      <th>imd_band</th>\n",
       "      <th>age_band</th>\n",
       "      <th>num_of_prev_attempts</th>\n",
       "      <th>studied_credits</th>\n",
       "      <th>disability</th>\n",
       "      <th>final_result</th>\n",
       "      <th>date_registration</th>\n",
       "    </tr>\n",
       "  </thead>\n",
       "  <tbody>\n",
       "    <tr>\n",
       "      <th>0</th>\n",
       "      <td>AAA</td>\n",
       "      <td>2013J</td>\n",
       "      <td>11391</td>\n",
       "      <td>M</td>\n",
       "      <td>East Anglian Region</td>\n",
       "      <td>HE Qualification</td>\n",
       "      <td>90-100%</td>\n",
       "      <td>55&lt;=</td>\n",
       "      <td>0</td>\n",
       "      <td>240</td>\n",
       "      <td>N</td>\n",
       "      <td>Pass</td>\n",
       "      <td>-159.0</td>\n",
       "    </tr>\n",
       "    <tr>\n",
       "      <th>1</th>\n",
       "      <td>AAA</td>\n",
       "      <td>2013J</td>\n",
       "      <td>28400</td>\n",
       "      <td>F</td>\n",
       "      <td>Scotland</td>\n",
       "      <td>HE Qualification</td>\n",
       "      <td>20-30%</td>\n",
       "      <td>35-55</td>\n",
       "      <td>0</td>\n",
       "      <td>60</td>\n",
       "      <td>N</td>\n",
       "      <td>Pass</td>\n",
       "      <td>-53.0</td>\n",
       "    </tr>\n",
       "    <tr>\n",
       "      <th>2</th>\n",
       "      <td>AAA</td>\n",
       "      <td>2013J</td>\n",
       "      <td>31604</td>\n",
       "      <td>F</td>\n",
       "      <td>South East Region</td>\n",
       "      <td>A Level or Equivalent</td>\n",
       "      <td>50-60%</td>\n",
       "      <td>35-55</td>\n",
       "      <td>0</td>\n",
       "      <td>60</td>\n",
       "      <td>N</td>\n",
       "      <td>Pass</td>\n",
       "      <td>-52.0</td>\n",
       "    </tr>\n",
       "    <tr>\n",
       "      <th>3</th>\n",
       "      <td>AAA</td>\n",
       "      <td>2013J</td>\n",
       "      <td>32885</td>\n",
       "      <td>F</td>\n",
       "      <td>West Midlands Region</td>\n",
       "      <td>Lower Than A Level</td>\n",
       "      <td>50-60%</td>\n",
       "      <td>0-35</td>\n",
       "      <td>0</td>\n",
       "      <td>60</td>\n",
       "      <td>N</td>\n",
       "      <td>Pass</td>\n",
       "      <td>-176.0</td>\n",
       "    </tr>\n",
       "    <tr>\n",
       "      <th>4</th>\n",
       "      <td>AAA</td>\n",
       "      <td>2013J</td>\n",
       "      <td>38053</td>\n",
       "      <td>M</td>\n",
       "      <td>Wales</td>\n",
       "      <td>A Level or Equivalent</td>\n",
       "      <td>80-90%</td>\n",
       "      <td>35-55</td>\n",
       "      <td>0</td>\n",
       "      <td>60</td>\n",
       "      <td>N</td>\n",
       "      <td>Pass</td>\n",
       "      <td>-110.0</td>\n",
       "    </tr>\n",
       "  </tbody>\n",
       "</table>\n",
       "</div>"
      ],
      "text/plain": [
       "  code_module code_presentation  id_student gender                region  \\\n",
       "0         AAA             2013J       11391      M   East Anglian Region   \n",
       "1         AAA             2013J       28400      F              Scotland   \n",
       "2         AAA             2013J       31604      F     South East Region   \n",
       "3         AAA             2013J       32885      F  West Midlands Region   \n",
       "4         AAA             2013J       38053      M                 Wales   \n",
       "\n",
       "       highest_education imd_band age_band  num_of_prev_attempts  \\\n",
       "0       HE Qualification  90-100%     55<=                     0   \n",
       "1       HE Qualification   20-30%    35-55                     0   \n",
       "2  A Level or Equivalent   50-60%    35-55                     0   \n",
       "3     Lower Than A Level   50-60%     0-35                     0   \n",
       "4  A Level or Equivalent   80-90%    35-55                     0   \n",
       "\n",
       "   studied_credits disability final_result  date_registration  \n",
       "0              240          N         Pass             -159.0  \n",
       "1               60          N         Pass              -53.0  \n",
       "2               60          N         Pass              -52.0  \n",
       "3               60          N         Pass             -176.0  \n",
       "4               60          N         Pass             -110.0  "
      ]
     },
     "execution_count": 62,
     "metadata": {},
     "output_type": "execute_result"
    }
   ],
   "source": [
    "in_re.head()"
   ]
  },
  {
   "cell_type": "code",
   "execution_count": 63,
   "id": "c21bed66",
   "metadata": {},
   "outputs": [
    {
     "data": {
      "text/plain": [
       "(21639, 13)"
      ]
     },
     "execution_count": 63,
     "metadata": {},
     "output_type": "execute_result"
    }
   ],
   "source": [
    "in_re.shape"
   ]
  },
  {
   "cell_type": "code",
   "execution_count": 64,
   "id": "eb4e11a0",
   "metadata": {},
   "outputs": [
    {
     "data": {
      "text/plain": [
       "code_module          0\n",
       "code_presentation    0\n",
       "id_student           0\n",
       "id_site              0\n",
       "date                 0\n",
       "sum_click            0\n",
       "activity_type        0\n",
       "dtype: int64"
      ]
     },
     "execution_count": 64,
     "metadata": {},
     "output_type": "execute_result"
    }
   ],
   "source": [
    "sv_vl = stvle.merge(vle_drop, on = ['id_site', 'code_module', 'code_presentation'])\n",
    "sv_vl.isna().sum()"
   ]
  },
  {
   "cell_type": "code",
   "execution_count": 65,
   "id": "7bd618cb",
   "metadata": {},
   "outputs": [
    {
     "data": {
      "text/html": [
       "<div>\n",
       "<style scoped>\n",
       "    .dataframe tbody tr th:only-of-type {\n",
       "        vertical-align: middle;\n",
       "    }\n",
       "\n",
       "    .dataframe tbody tr th {\n",
       "        vertical-align: top;\n",
       "    }\n",
       "\n",
       "    .dataframe thead th {\n",
       "        text-align: right;\n",
       "    }\n",
       "</style>\n",
       "<table border=\"1\" class=\"dataframe\">\n",
       "  <thead>\n",
       "    <tr style=\"text-align: right;\">\n",
       "      <th></th>\n",
       "      <th>code_module</th>\n",
       "      <th>code_presentation</th>\n",
       "      <th>id_student</th>\n",
       "      <th>id_site</th>\n",
       "      <th>date</th>\n",
       "      <th>sum_click</th>\n",
       "      <th>activity_type</th>\n",
       "    </tr>\n",
       "  </thead>\n",
       "  <tbody>\n",
       "    <tr>\n",
       "      <th>0</th>\n",
       "      <td>AAA</td>\n",
       "      <td>2013J</td>\n",
       "      <td>28400</td>\n",
       "      <td>546652</td>\n",
       "      <td>-10</td>\n",
       "      <td>4</td>\n",
       "      <td>forumng</td>\n",
       "    </tr>\n",
       "    <tr>\n",
       "      <th>1</th>\n",
       "      <td>AAA</td>\n",
       "      <td>2013J</td>\n",
       "      <td>28400</td>\n",
       "      <td>546652</td>\n",
       "      <td>-10</td>\n",
       "      <td>1</td>\n",
       "      <td>forumng</td>\n",
       "    </tr>\n",
       "    <tr>\n",
       "      <th>2</th>\n",
       "      <td>AAA</td>\n",
       "      <td>2013J</td>\n",
       "      <td>28400</td>\n",
       "      <td>546652</td>\n",
       "      <td>-10</td>\n",
       "      <td>1</td>\n",
       "      <td>forumng</td>\n",
       "    </tr>\n",
       "    <tr>\n",
       "      <th>3</th>\n",
       "      <td>AAA</td>\n",
       "      <td>2013J</td>\n",
       "      <td>28400</td>\n",
       "      <td>546652</td>\n",
       "      <td>-10</td>\n",
       "      <td>8</td>\n",
       "      <td>forumng</td>\n",
       "    </tr>\n",
       "    <tr>\n",
       "      <th>4</th>\n",
       "      <td>AAA</td>\n",
       "      <td>2013J</td>\n",
       "      <td>30268</td>\n",
       "      <td>546652</td>\n",
       "      <td>-10</td>\n",
       "      <td>3</td>\n",
       "      <td>forumng</td>\n",
       "    </tr>\n",
       "  </tbody>\n",
       "</table>\n",
       "</div>"
      ],
      "text/plain": [
       "  code_module code_presentation  id_student  id_site  date  sum_click  \\\n",
       "0         AAA             2013J       28400   546652   -10          4   \n",
       "1         AAA             2013J       28400   546652   -10          1   \n",
       "2         AAA             2013J       28400   546652   -10          1   \n",
       "3         AAA             2013J       28400   546652   -10          8   \n",
       "4         AAA             2013J       30268   546652   -10          3   \n",
       "\n",
       "  activity_type  \n",
       "0       forumng  \n",
       "1       forumng  \n",
       "2       forumng  \n",
       "3       forumng  \n",
       "4       forumng  "
      ]
     },
     "execution_count": 65,
     "metadata": {},
     "output_type": "execute_result"
    }
   ],
   "source": [
    "sv_vl.head()"
   ]
  },
  {
   "cell_type": "code",
   "execution_count": 66,
   "id": "6d9e36cb",
   "metadata": {},
   "outputs": [
    {
     "data": {
      "text/plain": [
       "(10655280, 7)"
      ]
     },
     "execution_count": 66,
     "metadata": {},
     "output_type": "execute_result"
    }
   ],
   "source": [
    "sv_vl.shape"
   ]
  },
  {
   "cell_type": "code",
   "execution_count": 67,
   "id": "59909ca8",
   "metadata": {},
   "outputs": [
    {
     "data": {
      "text/plain": [
       "id_assessment                 0\n",
       "id_student                    0\n",
       "date_submitted                0\n",
       "is_banked                     0\n",
       "score                         0\n",
       "code_module                   0\n",
       "code_presentation             0\n",
       "assessment_type               0\n",
       "date                          0\n",
       "weight                        0\n",
       "module_presentation_length    0\n",
       "gender                        0\n",
       "region                        0\n",
       "highest_education             0\n",
       "imd_band                      0\n",
       "age_band                      0\n",
       "num_of_prev_attempts          0\n",
       "studied_credits               0\n",
       "disability                    0\n",
       "final_result                  0\n",
       "date_registration             0\n",
       "dtype: int64"
      ]
     },
     "execution_count": 67,
     "metadata": {},
     "output_type": "execute_result"
    }
   ],
   "source": [
    "sacri = sta_ac.merge(in_re, on = ['code_module', 'code_presentation', 'id_student'])\n",
    "sacri.isna().sum()"
   ]
  },
  {
   "cell_type": "code",
   "execution_count": 68,
   "id": "ea000740",
   "metadata": {},
   "outputs": [
    {
     "data": {
      "text/html": [
       "<div>\n",
       "<style scoped>\n",
       "    .dataframe tbody tr th:only-of-type {\n",
       "        vertical-align: middle;\n",
       "    }\n",
       "\n",
       "    .dataframe tbody tr th {\n",
       "        vertical-align: top;\n",
       "    }\n",
       "\n",
       "    .dataframe thead th {\n",
       "        text-align: right;\n",
       "    }\n",
       "</style>\n",
       "<table border=\"1\" class=\"dataframe\">\n",
       "  <thead>\n",
       "    <tr style=\"text-align: right;\">\n",
       "      <th></th>\n",
       "      <th>id_assessment</th>\n",
       "      <th>id_student</th>\n",
       "      <th>date_submitted</th>\n",
       "      <th>is_banked</th>\n",
       "      <th>score</th>\n",
       "      <th>code_module</th>\n",
       "      <th>code_presentation</th>\n",
       "      <th>assessment_type</th>\n",
       "      <th>date</th>\n",
       "      <th>weight</th>\n",
       "      <th>...</th>\n",
       "      <th>gender</th>\n",
       "      <th>region</th>\n",
       "      <th>highest_education</th>\n",
       "      <th>imd_band</th>\n",
       "      <th>age_band</th>\n",
       "      <th>num_of_prev_attempts</th>\n",
       "      <th>studied_credits</th>\n",
       "      <th>disability</th>\n",
       "      <th>final_result</th>\n",
       "      <th>date_registration</th>\n",
       "    </tr>\n",
       "  </thead>\n",
       "  <tbody>\n",
       "    <tr>\n",
       "      <th>0</th>\n",
       "      <td>1752</td>\n",
       "      <td>11391</td>\n",
       "      <td>18</td>\n",
       "      <td>0</td>\n",
       "      <td>78.0</td>\n",
       "      <td>AAA</td>\n",
       "      <td>2013J</td>\n",
       "      <td>TMA</td>\n",
       "      <td>19.0</td>\n",
       "      <td>10.0</td>\n",
       "      <td>...</td>\n",
       "      <td>M</td>\n",
       "      <td>East Anglian Region</td>\n",
       "      <td>HE Qualification</td>\n",
       "      <td>90-100%</td>\n",
       "      <td>55&lt;=</td>\n",
       "      <td>0</td>\n",
       "      <td>240</td>\n",
       "      <td>N</td>\n",
       "      <td>Pass</td>\n",
       "      <td>-159.0</td>\n",
       "    </tr>\n",
       "    <tr>\n",
       "      <th>1</th>\n",
       "      <td>1753</td>\n",
       "      <td>11391</td>\n",
       "      <td>53</td>\n",
       "      <td>0</td>\n",
       "      <td>85.0</td>\n",
       "      <td>AAA</td>\n",
       "      <td>2013J</td>\n",
       "      <td>TMA</td>\n",
       "      <td>54.0</td>\n",
       "      <td>20.0</td>\n",
       "      <td>...</td>\n",
       "      <td>M</td>\n",
       "      <td>East Anglian Region</td>\n",
       "      <td>HE Qualification</td>\n",
       "      <td>90-100%</td>\n",
       "      <td>55&lt;=</td>\n",
       "      <td>0</td>\n",
       "      <td>240</td>\n",
       "      <td>N</td>\n",
       "      <td>Pass</td>\n",
       "      <td>-159.0</td>\n",
       "    </tr>\n",
       "    <tr>\n",
       "      <th>2</th>\n",
       "      <td>1754</td>\n",
       "      <td>11391</td>\n",
       "      <td>115</td>\n",
       "      <td>0</td>\n",
       "      <td>80.0</td>\n",
       "      <td>AAA</td>\n",
       "      <td>2013J</td>\n",
       "      <td>TMA</td>\n",
       "      <td>117.0</td>\n",
       "      <td>20.0</td>\n",
       "      <td>...</td>\n",
       "      <td>M</td>\n",
       "      <td>East Anglian Region</td>\n",
       "      <td>HE Qualification</td>\n",
       "      <td>90-100%</td>\n",
       "      <td>55&lt;=</td>\n",
       "      <td>0</td>\n",
       "      <td>240</td>\n",
       "      <td>N</td>\n",
       "      <td>Pass</td>\n",
       "      <td>-159.0</td>\n",
       "    </tr>\n",
       "    <tr>\n",
       "      <th>3</th>\n",
       "      <td>1755</td>\n",
       "      <td>11391</td>\n",
       "      <td>164</td>\n",
       "      <td>0</td>\n",
       "      <td>85.0</td>\n",
       "      <td>AAA</td>\n",
       "      <td>2013J</td>\n",
       "      <td>TMA</td>\n",
       "      <td>166.0</td>\n",
       "      <td>20.0</td>\n",
       "      <td>...</td>\n",
       "      <td>M</td>\n",
       "      <td>East Anglian Region</td>\n",
       "      <td>HE Qualification</td>\n",
       "      <td>90-100%</td>\n",
       "      <td>55&lt;=</td>\n",
       "      <td>0</td>\n",
       "      <td>240</td>\n",
       "      <td>N</td>\n",
       "      <td>Pass</td>\n",
       "      <td>-159.0</td>\n",
       "    </tr>\n",
       "    <tr>\n",
       "      <th>4</th>\n",
       "      <td>1756</td>\n",
       "      <td>11391</td>\n",
       "      <td>212</td>\n",
       "      <td>0</td>\n",
       "      <td>82.0</td>\n",
       "      <td>AAA</td>\n",
       "      <td>2013J</td>\n",
       "      <td>TMA</td>\n",
       "      <td>215.0</td>\n",
       "      <td>30.0</td>\n",
       "      <td>...</td>\n",
       "      <td>M</td>\n",
       "      <td>East Anglian Region</td>\n",
       "      <td>HE Qualification</td>\n",
       "      <td>90-100%</td>\n",
       "      <td>55&lt;=</td>\n",
       "      <td>0</td>\n",
       "      <td>240</td>\n",
       "      <td>N</td>\n",
       "      <td>Pass</td>\n",
       "      <td>-159.0</td>\n",
       "    </tr>\n",
       "  </tbody>\n",
       "</table>\n",
       "<p>5 rows × 21 columns</p>\n",
       "</div>"
      ],
      "text/plain": [
       "   id_assessment  id_student  date_submitted  is_banked  score code_module  \\\n",
       "0           1752       11391              18          0   78.0         AAA   \n",
       "1           1753       11391              53          0   85.0         AAA   \n",
       "2           1754       11391             115          0   80.0         AAA   \n",
       "3           1755       11391             164          0   85.0         AAA   \n",
       "4           1756       11391             212          0   82.0         AAA   \n",
       "\n",
       "  code_presentation assessment_type   date  weight  ...  gender  \\\n",
       "0             2013J             TMA   19.0    10.0  ...       M   \n",
       "1             2013J             TMA   54.0    20.0  ...       M   \n",
       "2             2013J             TMA  117.0    20.0  ...       M   \n",
       "3             2013J             TMA  166.0    20.0  ...       M   \n",
       "4             2013J             TMA  215.0    30.0  ...       M   \n",
       "\n",
       "                region highest_education imd_band age_band  \\\n",
       "0  East Anglian Region  HE Qualification  90-100%     55<=   \n",
       "1  East Anglian Region  HE Qualification  90-100%     55<=   \n",
       "2  East Anglian Region  HE Qualification  90-100%     55<=   \n",
       "3  East Anglian Region  HE Qualification  90-100%     55<=   \n",
       "4  East Anglian Region  HE Qualification  90-100%     55<=   \n",
       "\n",
       "  num_of_prev_attempts  studied_credits  disability final_result  \\\n",
       "0                    0              240           N         Pass   \n",
       "1                    0              240           N         Pass   \n",
       "2                    0              240           N         Pass   \n",
       "3                    0              240           N         Pass   \n",
       "4                    0              240           N         Pass   \n",
       "\n",
       "  date_registration  \n",
       "0            -159.0  \n",
       "1            -159.0  \n",
       "2            -159.0  \n",
       "3            -159.0  \n",
       "4            -159.0  \n",
       "\n",
       "[5 rows x 21 columns]"
      ]
     },
     "execution_count": 68,
     "metadata": {},
     "output_type": "execute_result"
    }
   ],
   "source": [
    "sacri.head()"
   ]
  },
  {
   "cell_type": "code",
   "execution_count": 69,
   "id": "93597a2d",
   "metadata": {
    "scrolled": true
   },
   "outputs": [
    {
     "data": {
      "text/plain": [
       "(153476, 21)"
      ]
     },
     "execution_count": 69,
     "metadata": {},
     "output_type": "execute_result"
    }
   ],
   "source": [
    "sacri.shape"
   ]
  },
  {
   "cell_type": "code",
   "execution_count": 70,
   "id": "b3f07caf",
   "metadata": {},
   "outputs": [
    {
     "data": {
      "text/plain": [
       "code_module                   0\n",
       "code_presentation             0\n",
       "id_student                    0\n",
       "id_site                       0\n",
       "date                          0\n",
       "sum_click                     0\n",
       "activity_type                 0\n",
       "id_assessment                 0\n",
       "date_submitted                0\n",
       "is_banked                     0\n",
       "score                         0\n",
       "assessment_type               0\n",
       "weight                        0\n",
       "module_presentation_length    0\n",
       "gender                        0\n",
       "region                        0\n",
       "highest_education             0\n",
       "imd_band                      0\n",
       "age_band                      0\n",
       "num_of_prev_attempts          0\n",
       "studied_credits               0\n",
       "disability                    0\n",
       "final_result                  0\n",
       "date_registration             0\n",
       "dtype: int64"
      ]
     },
     "execution_count": 70,
     "metadata": {},
     "output_type": "execute_result"
    }
   ],
   "source": [
    "df = sv_vl.merge(sacri, on = ['code_module', 'code_presentation', 'date', 'id_student'])\n",
    "df.isna().sum()"
   ]
  },
  {
   "cell_type": "code",
   "execution_count": 71,
   "id": "3930a038",
   "metadata": {},
   "outputs": [
    {
     "data": {
      "text/html": [
       "<div>\n",
       "<style scoped>\n",
       "    .dataframe tbody tr th:only-of-type {\n",
       "        vertical-align: middle;\n",
       "    }\n",
       "\n",
       "    .dataframe tbody tr th {\n",
       "        vertical-align: top;\n",
       "    }\n",
       "\n",
       "    .dataframe thead th {\n",
       "        text-align: right;\n",
       "    }\n",
       "</style>\n",
       "<table border=\"1\" class=\"dataframe\">\n",
       "  <thead>\n",
       "    <tr style=\"text-align: right;\">\n",
       "      <th></th>\n",
       "      <th>code_module</th>\n",
       "      <th>code_presentation</th>\n",
       "      <th>id_student</th>\n",
       "      <th>id_site</th>\n",
       "      <th>date</th>\n",
       "      <th>sum_click</th>\n",
       "      <th>activity_type</th>\n",
       "      <th>id_assessment</th>\n",
       "      <th>date_submitted</th>\n",
       "      <th>is_banked</th>\n",
       "      <th>...</th>\n",
       "      <th>gender</th>\n",
       "      <th>region</th>\n",
       "      <th>highest_education</th>\n",
       "      <th>imd_band</th>\n",
       "      <th>age_band</th>\n",
       "      <th>num_of_prev_attempts</th>\n",
       "      <th>studied_credits</th>\n",
       "      <th>disability</th>\n",
       "      <th>final_result</th>\n",
       "      <th>date_registration</th>\n",
       "    </tr>\n",
       "  </thead>\n",
       "  <tbody>\n",
       "    <tr>\n",
       "      <th>0</th>\n",
       "      <td>AAA</td>\n",
       "      <td>2013J</td>\n",
       "      <td>2412002</td>\n",
       "      <td>546652</td>\n",
       "      <td>19</td>\n",
       "      <td>1</td>\n",
       "      <td>forumng</td>\n",
       "      <td>1752</td>\n",
       "      <td>20</td>\n",
       "      <td>0</td>\n",
       "      <td>...</td>\n",
       "      <td>M</td>\n",
       "      <td>South West Region</td>\n",
       "      <td>Lower Than A Level</td>\n",
       "      <td>50-60%</td>\n",
       "      <td>35-55</td>\n",
       "      <td>0</td>\n",
       "      <td>90</td>\n",
       "      <td>N</td>\n",
       "      <td>Distinction</td>\n",
       "      <td>-38.0</td>\n",
       "    </tr>\n",
       "    <tr>\n",
       "      <th>1</th>\n",
       "      <td>AAA</td>\n",
       "      <td>2013J</td>\n",
       "      <td>2412002</td>\n",
       "      <td>546652</td>\n",
       "      <td>19</td>\n",
       "      <td>1</td>\n",
       "      <td>forumng</td>\n",
       "      <td>1752</td>\n",
       "      <td>20</td>\n",
       "      <td>0</td>\n",
       "      <td>...</td>\n",
       "      <td>M</td>\n",
       "      <td>South West Region</td>\n",
       "      <td>Lower Than A Level</td>\n",
       "      <td>50-60%</td>\n",
       "      <td>35-55</td>\n",
       "      <td>0</td>\n",
       "      <td>90</td>\n",
       "      <td>N</td>\n",
       "      <td>Distinction</td>\n",
       "      <td>-38.0</td>\n",
       "    </tr>\n",
       "    <tr>\n",
       "      <th>2</th>\n",
       "      <td>AAA</td>\n",
       "      <td>2013J</td>\n",
       "      <td>2412002</td>\n",
       "      <td>546614</td>\n",
       "      <td>19</td>\n",
       "      <td>10</td>\n",
       "      <td>homepage</td>\n",
       "      <td>1752</td>\n",
       "      <td>20</td>\n",
       "      <td>0</td>\n",
       "      <td>...</td>\n",
       "      <td>M</td>\n",
       "      <td>South West Region</td>\n",
       "      <td>Lower Than A Level</td>\n",
       "      <td>50-60%</td>\n",
       "      <td>35-55</td>\n",
       "      <td>0</td>\n",
       "      <td>90</td>\n",
       "      <td>N</td>\n",
       "      <td>Distinction</td>\n",
       "      <td>-38.0</td>\n",
       "    </tr>\n",
       "    <tr>\n",
       "      <th>3</th>\n",
       "      <td>AAA</td>\n",
       "      <td>2013J</td>\n",
       "      <td>2412002</td>\n",
       "      <td>546876</td>\n",
       "      <td>19</td>\n",
       "      <td>2</td>\n",
       "      <td>subpage</td>\n",
       "      <td>1752</td>\n",
       "      <td>20</td>\n",
       "      <td>0</td>\n",
       "      <td>...</td>\n",
       "      <td>M</td>\n",
       "      <td>South West Region</td>\n",
       "      <td>Lower Than A Level</td>\n",
       "      <td>50-60%</td>\n",
       "      <td>35-55</td>\n",
       "      <td>0</td>\n",
       "      <td>90</td>\n",
       "      <td>N</td>\n",
       "      <td>Distinction</td>\n",
       "      <td>-38.0</td>\n",
       "    </tr>\n",
       "    <tr>\n",
       "      <th>4</th>\n",
       "      <td>AAA</td>\n",
       "      <td>2013J</td>\n",
       "      <td>2412002</td>\n",
       "      <td>546871</td>\n",
       "      <td>19</td>\n",
       "      <td>1</td>\n",
       "      <td>subpage</td>\n",
       "      <td>1752</td>\n",
       "      <td>20</td>\n",
       "      <td>0</td>\n",
       "      <td>...</td>\n",
       "      <td>M</td>\n",
       "      <td>South West Region</td>\n",
       "      <td>Lower Than A Level</td>\n",
       "      <td>50-60%</td>\n",
       "      <td>35-55</td>\n",
       "      <td>0</td>\n",
       "      <td>90</td>\n",
       "      <td>N</td>\n",
       "      <td>Distinction</td>\n",
       "      <td>-38.0</td>\n",
       "    </tr>\n",
       "  </tbody>\n",
       "</table>\n",
       "<p>5 rows × 24 columns</p>\n",
       "</div>"
      ],
      "text/plain": [
       "  code_module code_presentation  id_student  id_site  date  sum_click  \\\n",
       "0         AAA             2013J     2412002   546652    19          1   \n",
       "1         AAA             2013J     2412002   546652    19          1   \n",
       "2         AAA             2013J     2412002   546614    19         10   \n",
       "3         AAA             2013J     2412002   546876    19          2   \n",
       "4         AAA             2013J     2412002   546871    19          1   \n",
       "\n",
       "  activity_type  id_assessment  date_submitted  is_banked  ...  gender  \\\n",
       "0       forumng           1752              20          0  ...       M   \n",
       "1       forumng           1752              20          0  ...       M   \n",
       "2      homepage           1752              20          0  ...       M   \n",
       "3       subpage           1752              20          0  ...       M   \n",
       "4       subpage           1752              20          0  ...       M   \n",
       "\n",
       "              region   highest_education  imd_band age_band  \\\n",
       "0  South West Region  Lower Than A Level    50-60%    35-55   \n",
       "1  South West Region  Lower Than A Level    50-60%    35-55   \n",
       "2  South West Region  Lower Than A Level    50-60%    35-55   \n",
       "3  South West Region  Lower Than A Level    50-60%    35-55   \n",
       "4  South West Region  Lower Than A Level    50-60%    35-55   \n",
       "\n",
       "  num_of_prev_attempts studied_credits disability final_result  \\\n",
       "0                    0              90          N  Distinction   \n",
       "1                    0              90          N  Distinction   \n",
       "2                    0              90          N  Distinction   \n",
       "3                    0              90          N  Distinction   \n",
       "4                    0              90          N  Distinction   \n",
       "\n",
       "   date_registration  \n",
       "0              -38.0  \n",
       "1              -38.0  \n",
       "2              -38.0  \n",
       "3              -38.0  \n",
       "4              -38.0  \n",
       "\n",
       "[5 rows x 24 columns]"
      ]
     },
     "execution_count": 71,
     "metadata": {},
     "output_type": "execute_result"
    }
   ],
   "source": [
    "df.head()"
   ]
  },
  {
   "cell_type": "code",
   "execution_count": 72,
   "id": "7b112eb6",
   "metadata": {},
   "outputs": [
    {
     "data": {
      "text/plain": [
       "(534781, 24)"
      ]
     },
     "execution_count": 72,
     "metadata": {},
     "output_type": "execute_result"
    }
   ],
   "source": [
    "df.shape"
   ]
  },
  {
   "cell_type": "code",
   "execution_count": 73,
   "id": "1f15a830",
   "metadata": {},
   "outputs": [
    {
     "data": {
      "text/html": [
       "<div>\n",
       "<style scoped>\n",
       "    .dataframe tbody tr th:only-of-type {\n",
       "        vertical-align: middle;\n",
       "    }\n",
       "\n",
       "    .dataframe tbody tr th {\n",
       "        vertical-align: top;\n",
       "    }\n",
       "\n",
       "    .dataframe thead th {\n",
       "        text-align: right;\n",
       "    }\n",
       "</style>\n",
       "<table border=\"1\" class=\"dataframe\">\n",
       "  <thead>\n",
       "    <tr style=\"text-align: right;\">\n",
       "      <th></th>\n",
       "      <th>id_student</th>\n",
       "      <th>gender</th>\n",
       "      <th>disability</th>\n",
       "      <th>age_band</th>\n",
       "      <th>region</th>\n",
       "      <th>imd_band</th>\n",
       "      <th>highest_education</th>\n",
       "      <th>id_site</th>\n",
       "      <th>code_module</th>\n",
       "      <th>code_presentation</th>\n",
       "      <th>...</th>\n",
       "      <th>studied_credits</th>\n",
       "      <th>date_submitted</th>\n",
       "      <th>score</th>\n",
       "      <th>assessment_type</th>\n",
       "      <th>module_presentation_length</th>\n",
       "      <th>weight</th>\n",
       "      <th>is_banked</th>\n",
       "      <th>activity_type</th>\n",
       "      <th>date</th>\n",
       "      <th>sum_click</th>\n",
       "    </tr>\n",
       "  </thead>\n",
       "  <tbody>\n",
       "    <tr>\n",
       "      <th>0</th>\n",
       "      <td>2412002</td>\n",
       "      <td>M</td>\n",
       "      <td>N</td>\n",
       "      <td>35-55</td>\n",
       "      <td>South West Region</td>\n",
       "      <td>50-60%</td>\n",
       "      <td>Lower Than A Level</td>\n",
       "      <td>546652</td>\n",
       "      <td>AAA</td>\n",
       "      <td>2013J</td>\n",
       "      <td>...</td>\n",
       "      <td>90</td>\n",
       "      <td>20</td>\n",
       "      <td>86.0</td>\n",
       "      <td>TMA</td>\n",
       "      <td>268</td>\n",
       "      <td>10.0</td>\n",
       "      <td>0</td>\n",
       "      <td>forumng</td>\n",
       "      <td>19</td>\n",
       "      <td>1</td>\n",
       "    </tr>\n",
       "    <tr>\n",
       "      <th>1</th>\n",
       "      <td>2412002</td>\n",
       "      <td>M</td>\n",
       "      <td>N</td>\n",
       "      <td>35-55</td>\n",
       "      <td>South West Region</td>\n",
       "      <td>50-60%</td>\n",
       "      <td>Lower Than A Level</td>\n",
       "      <td>546652</td>\n",
       "      <td>AAA</td>\n",
       "      <td>2013J</td>\n",
       "      <td>...</td>\n",
       "      <td>90</td>\n",
       "      <td>20</td>\n",
       "      <td>86.0</td>\n",
       "      <td>TMA</td>\n",
       "      <td>268</td>\n",
       "      <td>10.0</td>\n",
       "      <td>0</td>\n",
       "      <td>forumng</td>\n",
       "      <td>19</td>\n",
       "      <td>1</td>\n",
       "    </tr>\n",
       "    <tr>\n",
       "      <th>2</th>\n",
       "      <td>2412002</td>\n",
       "      <td>M</td>\n",
       "      <td>N</td>\n",
       "      <td>35-55</td>\n",
       "      <td>South West Region</td>\n",
       "      <td>50-60%</td>\n",
       "      <td>Lower Than A Level</td>\n",
       "      <td>546614</td>\n",
       "      <td>AAA</td>\n",
       "      <td>2013J</td>\n",
       "      <td>...</td>\n",
       "      <td>90</td>\n",
       "      <td>20</td>\n",
       "      <td>86.0</td>\n",
       "      <td>TMA</td>\n",
       "      <td>268</td>\n",
       "      <td>10.0</td>\n",
       "      <td>0</td>\n",
       "      <td>homepage</td>\n",
       "      <td>19</td>\n",
       "      <td>10</td>\n",
       "    </tr>\n",
       "    <tr>\n",
       "      <th>3</th>\n",
       "      <td>2412002</td>\n",
       "      <td>M</td>\n",
       "      <td>N</td>\n",
       "      <td>35-55</td>\n",
       "      <td>South West Region</td>\n",
       "      <td>50-60%</td>\n",
       "      <td>Lower Than A Level</td>\n",
       "      <td>546876</td>\n",
       "      <td>AAA</td>\n",
       "      <td>2013J</td>\n",
       "      <td>...</td>\n",
       "      <td>90</td>\n",
       "      <td>20</td>\n",
       "      <td>86.0</td>\n",
       "      <td>TMA</td>\n",
       "      <td>268</td>\n",
       "      <td>10.0</td>\n",
       "      <td>0</td>\n",
       "      <td>subpage</td>\n",
       "      <td>19</td>\n",
       "      <td>2</td>\n",
       "    </tr>\n",
       "    <tr>\n",
       "      <th>4</th>\n",
       "      <td>2412002</td>\n",
       "      <td>M</td>\n",
       "      <td>N</td>\n",
       "      <td>35-55</td>\n",
       "      <td>South West Region</td>\n",
       "      <td>50-60%</td>\n",
       "      <td>Lower Than A Level</td>\n",
       "      <td>546871</td>\n",
       "      <td>AAA</td>\n",
       "      <td>2013J</td>\n",
       "      <td>...</td>\n",
       "      <td>90</td>\n",
       "      <td>20</td>\n",
       "      <td>86.0</td>\n",
       "      <td>TMA</td>\n",
       "      <td>268</td>\n",
       "      <td>10.0</td>\n",
       "      <td>0</td>\n",
       "      <td>subpage</td>\n",
       "      <td>19</td>\n",
       "      <td>1</td>\n",
       "    </tr>\n",
       "  </tbody>\n",
       "</table>\n",
       "<p>5 rows × 24 columns</p>\n",
       "</div>"
      ],
      "text/plain": [
       "   id_student gender disability age_band             region imd_band  \\\n",
       "0     2412002      M          N    35-55  South West Region   50-60%   \n",
       "1     2412002      M          N    35-55  South West Region   50-60%   \n",
       "2     2412002      M          N    35-55  South West Region   50-60%   \n",
       "3     2412002      M          N    35-55  South West Region   50-60%   \n",
       "4     2412002      M          N    35-55  South West Region   50-60%   \n",
       "\n",
       "    highest_education  id_site code_module code_presentation  ...  \\\n",
       "0  Lower Than A Level   546652         AAA             2013J  ...   \n",
       "1  Lower Than A Level   546652         AAA             2013J  ...   \n",
       "2  Lower Than A Level   546614         AAA             2013J  ...   \n",
       "3  Lower Than A Level   546876         AAA             2013J  ...   \n",
       "4  Lower Than A Level   546871         AAA             2013J  ...   \n",
       "\n",
       "   studied_credits  date_submitted  score assessment_type  \\\n",
       "0               90              20   86.0             TMA   \n",
       "1               90              20   86.0             TMA   \n",
       "2               90              20   86.0             TMA   \n",
       "3               90              20   86.0             TMA   \n",
       "4               90              20   86.0             TMA   \n",
       "\n",
       "   module_presentation_length  weight  is_banked activity_type  date  \\\n",
       "0                         268    10.0          0       forumng    19   \n",
       "1                         268    10.0          0       forumng    19   \n",
       "2                         268    10.0          0      homepage    19   \n",
       "3                         268    10.0          0       subpage    19   \n",
       "4                         268    10.0          0       subpage    19   \n",
       "\n",
       "   sum_click  \n",
       "0          1  \n",
       "1          1  \n",
       "2         10  \n",
       "3          2  \n",
       "4          1  \n",
       "\n",
       "[5 rows x 24 columns]"
      ]
     },
     "execution_count": 73,
     "metadata": {},
     "output_type": "execute_result"
    }
   ],
   "source": [
    "col_order = ['id_student','gender', 'disability', 'age_band', \n",
    "             'region', 'imd_band', 'highest_education', 'id_site', \n",
    "             'code_module', 'code_presentation', 'id_assessment', \n",
    "             'date_registration', 'num_of_prev_attempts', \n",
    "             'final_result', 'studied_credits', 'date_submitted', \n",
    "             'score', 'assessment_type', 'module_presentation_length', \n",
    "             'weight', 'is_banked',  'activity_type', 'date', 'sum_click']\n",
    "df = df[col_order]\n",
    "df.head()"
   ]
  },
  {
   "cell_type": "code",
   "execution_count": 74,
   "id": "7d68d386",
   "metadata": {},
   "outputs": [
    {
     "name": "stdout",
     "output_type": "stream",
     "text": [
      "gender\n",
      "['M' 'F']\n",
      "\n",
      "disability\n",
      "['N' 'Y']\n",
      "\n",
      "age_band\n",
      "['35-55' '0-35' '55<=']\n",
      "\n",
      "region\n",
      "['South West Region' 'East Midlands Region' 'East Anglian Region'\n",
      " 'Scotland' 'West Midlands Region' 'Yorkshire Region' 'Ireland'\n",
      " 'South Region' 'North Western Region' 'North Region' 'London Region'\n",
      " 'Wales' 'South East Region']\n",
      "\n",
      "imd_band\n",
      "['50-60%' '10-20%' '40-50%' '60-70%' '90-100%' '30-40%' '70-80%' '20-30%'\n",
      " '0-10%' '80-90%']\n",
      "\n",
      "highest_education\n",
      "['Lower Than A Level' 'A Level or Equivalent' 'HE Qualification'\n",
      " 'Post Graduate Qualification' 'No Formal quals']\n",
      "\n",
      "date_registration\n",
      "[ -38. -127.  -71.  -58. -144.  -80. -191.    2.  -68.  -49.  -67.  -18.\n",
      "  -50. -195.  -32.  -54.  -15.  -16.  -43.  -73.  -46. -158.  -52.  -11.\n",
      "  -81.  -87.  -48.  -31.  -94. -109.  -35.  -30.  -63.  -74.  -29. -100.\n",
      " -165. -128.  -25. -101.  -91. -138.  -57. -108.  -62. -102. -164.  -53.\n",
      " -106.  -56.  -85.  -24.  -22. -185. -137. -148.  -45. -123. -113.  -66.\n",
      "  -59.  -95. -120.  -61. -129. -130.  -23. -156.   -4. -155. -172. -103.\n",
      " -151.  -33. -198.  -47. -107. -176. -110.  -26.  -82.  -99.  -36. -132.\n",
      "  -75.  -37. -115.  -96.  -64. -121.  -79. -136.  -12.  -51. -117. -169.\n",
      " -180.  -92. -162. -105.  -65. -170.  -42. -116.  -17.   48. -159.  -27.\n",
      "  -19.  -83.  -60.   -8. -145.    3.  -78. -114.  -44. -147.  -70. -153.\n",
      " -149. -124.  -72. -134. -135.  -28.   -5.  -14.  -20. -146.  -21.  -88.\n",
      " -122.   -7.  -10.  -41.  -89.  -93.  -84.    5. -150.   10. -140. -154.\n",
      "  -86. -119. -141. -111. -211.  -55. -219.   -3. -248.  -77. -104. -131.\n",
      "  -34.    6. -227. -193.   -6. -118. -182. -126.  -76. -161.  -98.  -90.\n",
      "   -9. -143. -166. -260. -256. -179. -233. -171.   16. -221. -142.   11.\n",
      " -178. -184. -125. -196. -157.   -2.   -1.  -39. -183. -190. -167. -194.\n",
      "   32. -174. -192. -173.   27.    1.    4. -200. -163.  -69. -232. -270.\n",
      "  -97. -261. -168. -133. -289. -236. -279. -258. -217. -229. -284.   17.\n",
      "   13. -112.    9.   44. -160.   12. -218. -228. -186. -255. -226.  -40.\n",
      " -304. -220. -297. -273. -269. -214. -208. -139. -242. -204. -205. -268.\n",
      " -209. -225. -234. -213. -247. -281. -295. -201. -244. -241. -254. -210.\n",
      " -181. -253. -264. -246. -240. -197. -177. -257.  -13. -251. -243. -199.\n",
      " -290. -202.   23. -187. -310. -298. -152. -216. -283. -245.   49. -203.\n",
      "   24.  101. -267. -207. -262. -249. -263. -305. -235. -280.   18.   19.]\n",
      "\n",
      "num_of_prev_attempts\n",
      "[0 1 2 5 3 6 4]\n",
      "\n",
      "final_result\n",
      "['Distinction' 'Pass' 'Fail' 'Withdrawn']\n",
      "\n",
      "studied_credits\n",
      "[ 90 120  60 150 420 240 180 300  80 170 210  70 325 225  75 195 130 135\n",
      " 270 105 165 330 250  30 145 630 100  45  40 160 220  50  95 110 190 200\n",
      " 280 155 140  85 215 115  55  65 360 430]\n",
      "\n",
      "date_submitted\n",
      "[ 20  19  22  14  25  16  23  18  17  54  55 117  26  15  10  21  12  33\n",
      "  24  52  58  56  62  59  67  53  48  57  51  61  69 106  92  50  64  47\n",
      "  60  68 114 118 127 122 120 116 115 107 108 112 110 124 111 119 113 138\n",
      " 125 166 175 173 171 168 165 170 169 164 160 162 172 167 163 158 181 178\n",
      " 177 161 150 159 215 208 222 213 201 216 210 214 219 223 212 209 211 218\n",
      " 217 220  78  30 179 131 205  -1  66  65 132 129 123 128 174 185 235 184\n",
      "  11  28  75 136 121 234 157 187  37  13  44  74  38 109  79 180 155 176\n",
      " 224   6  41   9  27   7  -3   8  -6  32   4  46  45  42  39  43  40  36\n",
      "  34  49  81  70  86  95  82  89  88  87  94  90  85 103  83  84  99  96\n",
      "  80  97 100 104  93  72 102  91 105  98 101 126 144 134 133 142 188 135\n",
      " 137 130 139 145 156 143 140 196 153 152 151 191 202 154 148 149 189 192\n",
      " 182 186 199 183 190 197 194 200 193 195  29   5  -2   0   3   2  35  31\n",
      "  77 228 146 147 141 229 198 207 204 203 206 226 236 238  73  76   1  -5\n",
      "  71  63 221 240 245 244 243 248 285 249 230 231 232 237 241 242  -7  -8\n",
      "  -4 227 233]\n",
      "\n",
      "score\n",
      "[ 86.  67.  58.  75.  90.  83.  85.  74.  82.  64.  18.  81.  79.  63.\n",
      "  72.  76.  68.  80.  71.  77.  70.  62.  60.  88.  66.  59.  48.  54.\n",
      "  87.  78.  49.  50.  57.  56.  65.  61.  73.  84.  52.  55.  53.  91.\n",
      "  51.  69.  47.  34.  45.  41.  35.  42.  37.  95.  33.  89.  40.  94.\n",
      "  92.  44.  32.  39.  98.  25.  43.  46.  29.  38.  28.  19.  30.  93.\n",
      "  99.  23.   0. 100.  13.  10.  27.  20.  97.  96.  14.   5.  15.  36.\n",
      "  22.  11.  24.   1.   8.  26.  12.  16.   4.   9.  31.  17.  21.   6.\n",
      "   7.   3.   2.]\n",
      "\n",
      "assessment_type\n",
      "['TMA' 'CMA' 'Exam']\n",
      "\n",
      "module_presentation_length\n",
      "[268 269 240 234 262 241 261]\n",
      "\n",
      "weight\n",
      "[ 10.   20.   30.    5.   18.    1.    0.   35.    2.    9.    7.   22.\n",
      "   8.  100.    4.   15.    6.    7.5   3.   12.5  17.5  25.   16.   28. ]\n",
      "\n",
      "is_banked\n",
      "[0 1]\n",
      "\n",
      "activity_type\n",
      "['forumng' 'homepage' 'subpage' 'oucontent' 'url' 'glossary' 'resource'\n",
      " 'oucollaborate' 'dataplus' 'quiz' 'ouelluminate' 'sharedsubpage'\n",
      " 'questionnaire' 'page' 'externalquiz' 'ouwiki' 'dualpane' 'folder'\n",
      " 'htmlactivity']\n",
      "\n",
      "date\n",
      "[ 19  54 117 166 215  47  89 124 159 187  96 131 208  12  40  82 152 194\n",
      " 110 201  18  32  67 102 137 151 200 207 109 144 158 214 261  23 114 206\n",
      "  25  51  53  79  81 116 149 170 240  88 123 165  74 241  20  41  62 111\n",
      " 146 195  33  68 222 173 236  24  52  87 129 171 227  94 136 199  61 229]\n",
      "\n",
      "sum_click\n",
      "[  1  10   2   3   6  12   4   5   9  11   7  15   8  25  18  13  19  14\n",
      "  24  17  33  26  23  31  20  22  28  48  16  21  54  30  42  39  29  55\n",
      "  37  43  32  35  34  38  27  56  46  59  70  44  65  40  62  36  45  64\n",
      "  47  77  41  49  58  51  57  50  69  52 110 256  71 179 241  96  61 105\n",
      "  95  80 103  85  63  79 108  53  72  68 111  60  97 117 163 161  84  88\n",
      "  67  75 130 243  93  81 101 118 154  76 119  90 104  66 121  73 112 106\n",
      " 114  74  94  87  78  91 199 123 107  99 169  83  92 150 132 100 122  82\n",
      " 153  89 143 275  86 159 149  98 145 234 337 170 102 144 230 124 126 655\n",
      " 109 127 157 178 131 294 459 436 175 128 137 191 113 291 138 167 120 185\n",
      " 115 116 272 258 233 414 292 174 557 261 148 165 151 240 162 136 268 125\n",
      " 156 229 326 210 247 220 472 141 164 133 421 201 267 188 225 482 488 314\n",
      " 444 224 129 152 155 134 142 373 181 237 249 279 251 171 146 298 222 263\n",
      " 262 287 274 147 140]\n",
      "\n"
     ]
    }
   ],
   "source": [
    "typo_check = ['gender', 'disability', 'age_band', \n",
    "             'region', 'imd_band', 'highest_education', \n",
    "             'date_registration', 'num_of_prev_attempts', \n",
    "             'final_result', 'studied_credits', 'date_submitted', \n",
    "             'score', 'assessment_type', 'module_presentation_length', \n",
    "             'weight', 'is_banked',  'activity_type', 'date', 'sum_click']\n",
    "\n",
    "for c in typo_check:\n",
    "    print(c)\n",
    "    print(df[c].unique())\n",
    "    print()"
   ]
  }
 ],
 "metadata": {
  "kernelspec": {
   "display_name": "Python 3 (ipykernel)",
   "language": "python",
   "name": "python3"
  },
  "language_info": {
   "codemirror_mode": {
    "name": "ipython",
    "version": 3
   },
   "file_extension": ".py",
   "mimetype": "text/x-python",
   "name": "python",
   "nbconvert_exporter": "python",
   "pygments_lexer": "ipython3",
   "version": "3.11.4"
  }
 },
 "nbformat": 4,
 "nbformat_minor": 5
}
